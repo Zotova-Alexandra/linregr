{
 "cells": [
  {
   "cell_type": "markdown",
   "metadata": {},
   "source": [
    "\n",
    "\n",
    "### О задании\n",
    "\n",
    "Практическое задание 1 посвящено изучению основных библиотек для анализа данных, а также линейных моделей и методов их обучения. Вы научитесь:\n",
    " * применять библиотеки NumPy и Pandas для осуществления желаемых преобразований;\n",
    " * подготавливать данные для обучения линейных моделей;\n",
    " * обучать линейную, Lasso и Ridge-регрессии при помощи модуля scikit-learn;\n",
    " * реализовывать обычный и стохастический градиентные спуски;\n",
    " * обучать линейную регрессию для произвольного функционала качества.\n",
    " \n"
   ]
  },
  {
   "cell_type": "markdown",
   "metadata": {},
   "source": [
    "## Библиотеки для анализа данных\n",
    "\n",
    "### NumPy\n",
    "\n",
    "Во всех заданиях данного раздела запрещено использовать циклы  и list comprehensions. Под вектором и матрицей в данных заданиях понимается одномерный и двумерный numpy.array соответственно."
   ]
  },
  {
   "cell_type": "code",
   "execution_count": 2,
   "metadata": {},
   "outputs": [],
   "source": [
    "import numpy as np"
   ]
  },
  {
   "cell_type": "markdown",
   "metadata": {},
   "source": [
    "**1.** Реализуйте функцию, возвращающую максимальный элемент в векторе x среди элементов, перед которыми стоит нулевой. Для x = np.array([6, 2, 0, 3, 0, 0, 5, 7, 0]) ответом является 5. Если нулевых элементов нет, функция должна возвращать None.\n"
   ]
  },
  {
   "cell_type": "code",
   "execution_count": 3,
   "metadata": {},
   "outputs": [
    {
     "name": "stdout",
     "output_type": "stream",
     "text": [
      "5\n"
     ]
    }
   ],
   "source": [
    "def max_element(arr):\n",
    "    print(np.max(np.take(arr[1:], np.where(arr[:-1]==0))))\n",
    "    \n",
    "x = np.array([6, 2, 0, 3, 0, 0, 5, 7, 0]) \n",
    "if 0 not in x:\n",
    "    print(None)\n",
    "else:\n",
    "    max_element(x)"
   ]
  },
  {
   "cell_type": "markdown",
   "metadata": {},
   "source": [
    "**2. ** Реализуйте функцию, принимающую на вход матрицу и некоторое число и возвращающую ближайший к числу элемент матрицы. Например: для X = np.arange(0,10).reshape((2, 5)) и v = 3.6 ответом будет 4."
   ]
  },
  {
   "cell_type": "code",
   "execution_count": 4,
   "metadata": {},
   "outputs": [
    {
     "name": "stdout",
     "output_type": "stream",
     "text": [
      "4\n"
     ]
    }
   ],
   "source": [
    "def nearest_value(X, v):\n",
    "    print(np.argmin(np.abs(X-v)))\n",
    "    \n",
    "X = np.arange(0,10).reshape((2, 5))\n",
    "v = 3.6\n",
    "nearest_value(X, v)"
   ]
  },
  {
   "cell_type": "markdown",
   "metadata": {},
   "source": [
    "**3. ** Реализуйте функцию scale(X), которая принимает на вход матрицу и масштабирует каждый ее столбец (вычитает выборочное среднее и делит на стандартное отклонение). Убедитесь, что в функции не будет происходить деления на ноль. Протестируйте на случайной матрице (для её генерации можно использовать, например, функцию [numpy.random.randint](http://docs.scipy.org/doc/numpy/reference/generated/numpy.random.randint.html))."
   ]
  },
  {
   "cell_type": "code",
   "execution_count": 5,
   "metadata": {},
   "outputs": [
    {
     "name": "stdout",
     "output_type": "stream",
     "text": [
      "[[ 0.41428397  1.05662467  1.61934221 -0.635409  ]\n",
      " [ 1.09220319  0.85536283 -0.92913078  1.55565652]\n",
      " [ 0.11298654 -0.55347007  0.02654659 -1.07362211]\n",
      " [-1.61947369 -1.35851743 -0.71675803  0.15337459]]\n"
     ]
    }
   ],
   "source": [
    "def scale(X):\n",
    "    means, stds = np.mean(X, axis=0), np.std(X, axis=0)\n",
    "    print((X - means)/stds)\n",
    "    \n",
    "X = np.random.randint(0, 50, size = (4, 4))    \n",
    "scale(X)"
   ]
  },
  {
   "cell_type": "markdown",
   "metadata": {},
   "source": [
    "**4.** Реализуйте функцию, которая для заданной матрицы находит:\n",
    " - определитель\n",
    " - след\n",
    " - наименьший и наибольший элементы\n",
    " - норму Фробениуса\n",
    " - собственные числа\n",
    " - обратную матрицу\n",
    "\n",
    "Для тестирования сгенерируйте матрицу с элементами из нормального распределения $\\mathcal{N}$(10,1)"
   ]
  },
  {
   "cell_type": "code",
   "execution_count": 6,
   "metadata": {},
   "outputs": [
    {
     "name": "stdout",
     "output_type": "stream",
     "text": [
      "Определитель:  11.043045241387883\n",
      "Cлед:  39.68538685815222\n",
      "Наименьший элемент:  8.844035648130085\n",
      "Наибольший элемент:  11.571766695140626\n",
      "Норма Фробениуса:  40.32271683552967\n",
      "Собственные числа:\n",
      " (array([40.21334228,  0.85168732, -0.29813112, -1.08151163]), array([[-0.5060769 , -0.16860439,  0.4990229 , -0.70956162],\n",
      "       [-0.51528216,  0.55070379,  0.15580135, -0.19237427],\n",
      "       [-0.48698437,  0.35677712,  0.15340639,  0.32971287],\n",
      "       [-0.49113817, -0.73553245, -0.83855147,  0.59228699]]))\n",
      "Обратная матрица:\n",
      " [[-1.38776603  2.07786109 -1.94188445  1.2010546 ]\n",
      " [-0.99553281  1.70845894 -0.92699197  0.17860973]\n",
      " [-0.67478062  2.02357839 -1.69532924  0.27789715]\n",
      " [ 3.16931347 -5.95253906  4.74970354 -1.70521713]]\n"
     ]
    }
   ],
   "source": [
    "def get_stats(X):\n",
    "    print('Определитель: ', np.linalg.det(X))\n",
    "    print('Cлед: ', np.trace(X))\n",
    "    print('Наименьший элемент: ', np.amin(X))\n",
    "    print('Наибольший элемент: ', np.amax(X))\n",
    "    print('Норма Фробениуса: ', np.linalg.norm(X, ord = None))\n",
    "    print('Собственные числа:\\n', np.linalg.eig(X))\n",
    "    print('Обратная матрица:\\n', np.linalg.inv(X))\n",
    "    \n",
    "X= 1 * np.random.randn(4, 4) + 10\n",
    "get_stats(X);"
   ]
  },
  {
   "cell_type": "markdown",
   "metadata": {},
   "source": [
    "**5.** Повторите 100 раз следующий эксперимент: сгенерируйте две матрицы размера 10×10 из стандартного нормального распределения, перемножьте их (как матрицы) и найдите максимальный элемент. Какое среднее значение по экспериментам у максимальных элементов? 95-процентная квантиль?"
   ]
  },
  {
   "cell_type": "code",
   "execution_count": 7,
   "metadata": {},
   "outputs": [
    {
     "name": "stdout",
     "output_type": "stream",
     "text": [
      "Среднее значение:  8.098938201033853\n",
      "95-процентная квантиль:  11.436436534521928\n"
     ]
    }
   ],
   "source": [
    "array = []\n",
    "for exp_num in range(100):\n",
    "    X= np.random.randn(10, 10) #N(0;1)\n",
    "    Y= np.random.randn(10, 10) #N(0;1)\n",
    "    total =np.dot(X, Y)\n",
    "    mx=np.amax(total)\n",
    "    #print('Максимальный элемент: ', mx)\n",
    "    array.append(mx)\n",
    "    \n",
    "#print (array)\n",
    "print('Среднее значение: ',np.mean(array))\n",
    "print('95-процентная квантиль: ',np.percentile(array, 95)) "
   ]
  },
  {
   "cell_type": "markdown",
   "metadata": {},
   "source": [
    "### Pandas\n",
    "\n",
    "![](https://metrouk2.files.wordpress.com/2015/10/panda.jpg)\n",
    "\n",
    "#### Ответьте на вопросы о данных по авиарейсам в США за январь-апрель 2008 года.\n",
    "\n",
    "[Данные](https://www.dropbox.com/s/dvfitn93obn0rql/2008.csv?dl=0) и их [описание](http://stat-computing.org/dataexpo/2009/the-data.html)"
   ]
  },
  {
   "cell_type": "code",
   "execution_count": 11,
   "metadata": {},
   "outputs": [],
   "source": [
    "import pandas as pd\n",
    "%matplotlib inline\n",
    "rf = pd.read_csv('2008.csv')"
   ]
  },
  {
   "cell_type": "markdown",
   "metadata": {},
   "source": [
    "**6.** Какая из причин отмены рейса (`CancellationCode`) была самой частой? (расшифровки кодов можно найти в описании данных)"
   ]
  },
  {
   "cell_type": "code",
   "execution_count": 12,
   "metadata": {},
   "outputs": [
    {
     "name": "stdout",
     "output_type": "stream",
     "text": [
      "A-carrier = 563\n"
     ]
    }
   ],
   "source": [
    "A=0;B=0;C=0;D=0\n",
    "for i in rf.CancellationCode:\n",
    "    if i=='A':\n",
    "        A+=1\n",
    "    if i=='B':\n",
    "        B+=1\n",
    "    if i=='C':\n",
    "        C+=1\n",
    "    if i=='D':\n",
    "        D+=1\n",
    "        \n",
    "if A>B and A>C and A>D:\n",
    "    print ('A-carrier =',A)\n",
    "        \n",
    "else:\n",
    "    if B>A and B>C and B>D:\n",
    "        print ('B-weather =',B)\n",
    "    else:\n",
    "        if C>A and C>B and C>D:\n",
    "            print ('C-NAS =',C) \n",
    "        else:\n",
    "            if D>A and D>B and D>C:\n",
    "                print ('D-security =',D) \n",
    "            else:\n",
    "                 print(' A-carrier =',A,'\\n', 'B-weather =',B,'\\n', \n",
    "                       'C-NAS =',C,'\\n','D-security =',D)"
   ]
  },
  {
   "cell_type": "markdown",
   "metadata": {},
   "source": [
    "**7.** Найдите среднее, минимальное и максимальное расстояние, пройденное самолетом."
   ]
  },
  {
   "cell_type": "code",
   "execution_count": 13,
   "metadata": {},
   "outputs": [
    {
     "name": "stdout",
     "output_type": "stream",
     "text": [
      "По всем самолетам: \n",
      "            Distance\n",
      "min       31.000000\n",
      "max     4962.000000\n",
      "mean     724.508257\n",
      "median   575.000000\n"
     ]
    }
   ],
   "source": [
    "sam=rf.apply({'Distance':['min', 'max', 'mean', 'median']})\n",
    "print('По всем самолетам:','\\n',sam); "
   ]
  },
  {
   "cell_type": "markdown",
   "metadata": {},
   "source": [
    "**8.** Не выглядит ли подозрительным минимальное пройденное расстояние? В какие дни и на каких рейсах оно было? Какое расстояние было пройдено этими же рейсами в другие дни?"
   ]
  },
  {
   "cell_type": "code",
   "execution_count": 14,
   "metadata": {},
   "outputs": [
    {
     "name": "stdout",
     "output_type": "stream",
     "text": [
      "       Distance  Year  Month  DayofMonth  FlightNum\n",
      "1116         31  2008     12          30         65\n",
      "6958         31  2008     12          26         65\n",
      "17349        31  2008      8          18         64\n",
      "27534        31  2008      3          11         64\n",
      "46082        31  2008      8           9         65\n",
      "48112        31  2008      2          28         64\n",
      "\n",
      "\n",
      "FlightNum=64:  \n",
      "        Distance  Year  Month  DayofMonth\n",
      "501         533  2008      3          20\n",
      "1389        680  2008      3          13\n",
      "2619       2381  2008      5          23\n",
      "3869         82  2008      7           1\n",
      "4025       1005  2008      6          15\n",
      "4466        123  2008      6          29\n",
      "6778        359  2008      7          12\n",
      "7891       2381  2008      4           6\n",
      "7977       1747  2008      7           9\n",
      "8448        123  2008      2          10\n",
      "9615        533  2008      1           4\n",
      "10833       372  2008      3          31\n",
      "12352      1747  2008      1          14\n",
      "12980        82  2008      8           6\n",
      "13155      1747  2008      7           2\n",
      "21304      1005  2008      5          13\n",
      "24750       680  2008      8          21\n",
      "25671       533  2008      1          15\n",
      "26323      1005  2008     12          15\n",
      "29801       123  2008      4          23\n",
      "30053        82  2008      1           4\n",
      "31375      1005  2008      3          30\n",
      "31629       883  2008      7          19\n",
      "32242        82  2008      9          23\n",
      "33769      1747  2008     12           7\n",
      "41044      1747  2008      3          30\n",
      "43353       571  2008      8          29\n",
      "44649       571  2008      9          14\n",
      "44810        82  2008      2          12\n",
      "48020      1005  2008     11           1\n",
      "55053       123  2008      3          31\n",
      "58530       571  2008      1          16\n",
      "61164       680  2008      9          14\n",
      "63028      1747  2008      1          22\n",
      "64319       414  2008      5           3\n",
      "67172       533  2008      3          22\n",
      "\n",
      "\n",
      "FlightNum=65:  \n",
      "        Distance  Year  Month  DayofMonth\n",
      "1517        680  2008      7          10\n",
      "6326         82  2008     10          18\n",
      "10113       571  2008      7          24\n",
      "14646      2454  2008     11          29\n",
      "15173      1005  2008     10          22\n",
      "26025       581  2008      5          13\n",
      "26109       571  2008      4           1\n",
      "26824      1747  2008      6          17\n",
      "32173      1747  2008      2          23\n",
      "32956      2454  2008      5          28\n",
      "33211      1005  2008      2          11\n",
      "37350        82  2008      5          27\n",
      "39438       571  2008      5           2\n",
      "43132       123  2008      7          24\n",
      "45031        82  2008      8          23\n",
      "47168       581  2008      7          19\n",
      "47716       281  2008      1          11\n",
      "49369       682  2008      3          19\n",
      "50184       372  2008      1          25\n",
      "50888        82  2008      9          30\n",
      "50910       372  2008      6          15\n",
      "51841      1747  2008      1          19\n",
      "52459       581  2008     12           9\n",
      "52618       680  2008      4          29\n",
      "52779      1747  2008      9          14\n",
      "54909       581  2008     11           6\n",
      "57730      1747  2008     11          14\n",
      "57822      1747  2008      5           3\n",
      "59015      1005  2008      2          26\n",
      "64203        82  2008      1           4\n",
      "65662       123  2008      3           4\n",
      "66042       372  2008      2          10\n",
      "66529        82  2008     12          21\n",
      "68264       386  2008      9           7\n",
      "68338      2454  2008      8           3\n",
      "69305      1005  2008      1           5\n"
     ]
    }
   ],
   "source": [
    "sam=rf[(rf.Distance== int(rf.Distance.min()))][['Distance','Year','Month', 'DayofMonth', 'FlightNum']]\n",
    "print (sam)\n",
    "print ('\\n')\n",
    "sam=rf[(rf.FlightNum==64) & (rf.Distance != int(rf.Distance.min()))][['Distance','Year','Month','DayofMonth']]\n",
    "print ('FlightNum=64: ','\\n',sam)\n",
    "print ('\\n')\n",
    "sam=rf[(rf.FlightNum==65) & (rf.Distance != int(rf.Distance.min()))][['Distance','Year','Month','DayofMonth']]\n",
    "print ('FlightNum=65: ','\\n',sam)"
   ]
  },
  {
   "cell_type": "markdown",
   "metadata": {},
   "source": [
    "**9.** Из какого аэропорта было произведено больше всего вылетов? В каком городе он находится?"
   ]
  },
  {
   "cell_type": "code",
   "execution_count": 16,
   "metadata": {},
   "outputs": [
    {
     "name": "stdout",
     "output_type": "stream",
     "text": [
      "ATL    4134\n",
      "ORD    3550\n",
      "DFW    2793\n",
      "DEN    2383\n",
      "LAX    2082\n",
      "       ... \n",
      "GST       1\n",
      "ADK       1\n",
      "PLN       1\n",
      "LMT       1\n",
      "RHI       1\n",
      "Name: Origin, Length: 297, dtype: int64 \n",
      "\n"
     ]
    },
    {
     "ename": "AttributeError",
     "evalue": "'DataFrame' object has no attribute 'iata'",
     "output_type": "error",
     "traceback": [
      "\u001b[1;31m---------------------------------------------------------------------------\u001b[0m",
      "\u001b[1;31mAttributeError\u001b[0m                            Traceback (most recent call last)",
      "\u001b[1;32m<ipython-input-16-e815ec863922>\u001b[0m in \u001b[0;36m<module>\u001b[1;34m\u001b[0m\n\u001b[0;32m      1\u001b[0m \u001b[0mairports\u001b[0m \u001b[1;33m=\u001b[0m \u001b[0mpd\u001b[0m\u001b[1;33m.\u001b[0m\u001b[0mread_csv\u001b[0m\u001b[1;33m(\u001b[0m\u001b[1;34m\"2008.csv\"\u001b[0m\u001b[1;33m)\u001b[0m\u001b[1;33m\u001b[0m\u001b[1;33m\u001b[0m\u001b[0m\n\u001b[0;32m      2\u001b[0m \u001b[0mprint\u001b[0m\u001b[1;33m(\u001b[0m\u001b[0mrf\u001b[0m\u001b[1;33m.\u001b[0m\u001b[0mOrigin\u001b[0m\u001b[1;33m.\u001b[0m\u001b[0mvalue_counts\u001b[0m\u001b[1;33m(\u001b[0m\u001b[1;33m)\u001b[0m\u001b[1;33m,\u001b[0m \u001b[1;34m'\\n'\u001b[0m\u001b[1;33m)\u001b[0m\u001b[1;33m\u001b[0m\u001b[1;33m\u001b[0m\u001b[0m\n\u001b[1;32m----> 3\u001b[1;33m \u001b[0mprint\u001b[0m\u001b[1;33m(\u001b[0m\u001b[0mairports\u001b[0m\u001b[1;33m[\u001b[0m\u001b[0mairports\u001b[0m\u001b[1;33m.\u001b[0m\u001b[0miata\u001b[0m \u001b[1;33m==\u001b[0m \u001b[1;34m'ATL'\u001b[0m\u001b[1;33m]\u001b[0m\u001b[1;33m.\u001b[0m\u001b[0mcity\u001b[0m\u001b[1;33m)\u001b[0m\u001b[1;33m\u001b[0m\u001b[1;33m\u001b[0m\u001b[0m\n\u001b[0m",
      "\u001b[1;32mD:\\anaconda\\lib\\site-packages\\pandas\\core\\generic.py\u001b[0m in \u001b[0;36m__getattr__\u001b[1;34m(self, name)\u001b[0m\n\u001b[0;32m   5137\u001b[0m             \u001b[1;32mif\u001b[0m \u001b[0mself\u001b[0m\u001b[1;33m.\u001b[0m\u001b[0m_info_axis\u001b[0m\u001b[1;33m.\u001b[0m\u001b[0m_can_hold_identifiers_and_holds_name\u001b[0m\u001b[1;33m(\u001b[0m\u001b[0mname\u001b[0m\u001b[1;33m)\u001b[0m\u001b[1;33m:\u001b[0m\u001b[1;33m\u001b[0m\u001b[1;33m\u001b[0m\u001b[0m\n\u001b[0;32m   5138\u001b[0m                 \u001b[1;32mreturn\u001b[0m \u001b[0mself\u001b[0m\u001b[1;33m[\u001b[0m\u001b[0mname\u001b[0m\u001b[1;33m]\u001b[0m\u001b[1;33m\u001b[0m\u001b[1;33m\u001b[0m\u001b[0m\n\u001b[1;32m-> 5139\u001b[1;33m             \u001b[1;32mreturn\u001b[0m \u001b[0mobject\u001b[0m\u001b[1;33m.\u001b[0m\u001b[0m__getattribute__\u001b[0m\u001b[1;33m(\u001b[0m\u001b[0mself\u001b[0m\u001b[1;33m,\u001b[0m \u001b[0mname\u001b[0m\u001b[1;33m)\u001b[0m\u001b[1;33m\u001b[0m\u001b[1;33m\u001b[0m\u001b[0m\n\u001b[0m\u001b[0;32m   5140\u001b[0m \u001b[1;33m\u001b[0m\u001b[0m\n\u001b[0;32m   5141\u001b[0m     \u001b[1;32mdef\u001b[0m \u001b[0m__setattr__\u001b[0m\u001b[1;33m(\u001b[0m\u001b[0mself\u001b[0m\u001b[1;33m,\u001b[0m \u001b[0mname\u001b[0m\u001b[1;33m:\u001b[0m \u001b[0mstr\u001b[0m\u001b[1;33m,\u001b[0m \u001b[0mvalue\u001b[0m\u001b[1;33m)\u001b[0m \u001b[1;33m->\u001b[0m \u001b[1;32mNone\u001b[0m\u001b[1;33m:\u001b[0m\u001b[1;33m\u001b[0m\u001b[1;33m\u001b[0m\u001b[0m\n",
      "\u001b[1;31mAttributeError\u001b[0m: 'DataFrame' object has no attribute 'iata'"
     ]
    }
   ],
   "source": [
    "airports = pd.read_csv(\"airports.csv\")\n",
    "print(rf.Origin.value_counts(), '\\n')\n",
    "print(airports[airports.iata == 'ATL'].city)"
   ]
  },
  {
   "cell_type": "markdown",
   "metadata": {},
   "source": [
    "**10.** Найдите для каждого аэропорта среднее время полета (`AirTime`) по всем вылетевшим из него рейсам. Какой аэропорт имеет наибольшее значение этого показателя?"
   ]
  },
  {
   "cell_type": "code",
   "execution_count": 17,
   "metadata": {},
   "outputs": [
    {
     "name": "stdout",
     "output_type": "stream",
     "text": [
      "AirTime    SJU\n",
      "dtype: object\n"
     ]
    }
   ],
   "source": [
    "print(rf[['Origin','AirTime']].groupby('Origin').mean().sort_values(('AirTime'),ascending=False).idxmax())"
   ]
  },
  {
   "cell_type": "markdown",
   "metadata": {},
   "source": [
    "**11.** Найдите аэропорт, у которого наибольшая доля задержанных (`DepDelay > 0`) рейсов. Исключите при этом из рассмотрения аэропорты, из которых было отправлено меньше 1000 рейсов (используйте функцию `filter` после `groupby`)."
   ]
  },
  {
   "cell_type": "code",
   "execution_count": 18,
   "metadata": {},
   "outputs": [
    {
     "name": "stdout",
     "output_type": "stream",
     "text": [
      "Наибольшее количество задержанных рейсов \n",
      "      Origin  DepDelay\n",
      "3635    MCO     750.0 \n",
      "\n",
      "Наибольшая доля задержанных рейсов \n",
      " EWR\n"
     ]
    }
   ],
   "source": [
    "za=rf[['Origin','DepDelay']].groupby(['Origin']).filter(lambda x: x['Origin'].count()>1000).sort_values(by=['DepDelay'], ascending=False)\n",
    "#Наибольшее количество задержанных рейсов\n",
    "print('Наибольшее количество задержанных рейсов','\\n', za.head(1),'\\n')\n",
    "#Наибольшая доля задержанных рейсов\n",
    "dol=rf[rf[\"DepDelay\"] > 0].groupby(\"Origin\").size()[rf.groupby(\"Origin\").size()>1000]/rf.groupby(\"Origin\").size()[rf.groupby(\"Origin\").size()>1000]\n",
    "print('Наибольшая доля задержанных рейсов','\\n', dol.idxmax())"
   ]
  },
  {
   "cell_type": "markdown",
   "metadata": {},
   "source": [
    "## Линейная регрессия\n",
    "\n",
    "В этой части мы разберемся с линейной регрессией, способами её обучения и измерением качества ее прогнозов. \n",
    "\n",
    "Будем рассматривать датасет из предыдущей части задания для предсказания времени задержки отправления рейса в минутах (DepDelay). Отметим, что под задержкой подразумевается не только опоздание рейса относительно планируемого времени вылета, но и отправление до планируемого времени.\n",
    "\n",
    "### Подготовка данных\n",
    "\n",
    "**12.** Считайте выборку из файла при помощи функции pd.read_csv и ответьте на следующие вопросы:\n",
    "   - Имеются ли в данных пропущенные значения?\n",
    "   - Сколько всего пропущенных элементов в таблице \"объект-признак\"?\n",
    "   - Сколько объектов имеют хотя бы один пропуск?\n",
    "   - Сколько признаков имеют хотя бы одно пропущенное значение?"
   ]
  },
  {
   "cell_type": "code",
   "execution_count": 19,
   "metadata": {
    "scrolled": true
   },
   "outputs": [
    {
     "name": "stdout",
     "output_type": "stream",
     "text": [
      "Имеются ли в данных пропущенные значения:  True\n",
      "Всего пропущенных элементов в таблице \"объект-признак\":  355215\n",
      "Количество объектов, имеющих хотя бы один пропуск: 70000\n",
      "Количество признаков, имеющих хотя бы одно пропущенное значение:  16\n"
     ]
    }
   ],
   "source": [
    "import numpy as np\n",
    "import pandas as pd\n",
    "rf = pd.read_csv(\"2008.csv\")\n",
    "s=rf.isnull().sum()\n",
    "#rf.info()\n",
    "print('Имеются ли в данных пропущенные значения: ', s.count()>0)\n",
    "print('Всего пропущенных элементов в таблице \"объект-признак\": ',rf.isnull().sum().sum())\n",
    "print('Количество объектов, имеющих хотя бы один пропуск: {}'.format(np.sum(np.any(rf, axis=1))))\n",
    "#print('Количество признаков всего: ',s.count())\n",
    "#print('Признаки, имеющие хотя бы одно пропущенное значение: ','\\n',s)\n",
    "pr_null=0\n",
    "for pr in s:\n",
    "    if pr > 0:\n",
    "        pr_null+=1  \n",
    "print('Количество признаков, имеющих хотя бы одно пропущенное значение: ',pr_null)"
   ]
  },
  {
   "cell_type": "markdown",
   "metadata": {},
   "source": [
    "Как вы понимаете, также не имеет смысла рассматривать при решении поставленной задачи объекты с пропущенным значением целевой переменной. В связи с этим ответьте на следующие вопросы и выполните соответствующие действия:\n",
    "- Имеются ли пропущенные значения в целевой переменной?\n",
    "- Проанализируйте объекты с пропущенными значениями целевой переменной. Чем вызвано это явление? Что их объединяет? Можно ли в связи с этим, на ваш взгляд, исключить какие-то признаки из рассмотрения? Обоснуйте свою точку зрения.\n",
    "\n",
    "Исключите из выборки объекты **с пропущенным значением целевой переменной и со значением целевой переменной, равным 0**, а также при необходимости исключите признаки в соответствии с вашим ответом на последний вопрос из списка и выделите целевую переменную в отдельный вектор, исключив её из матрицы \"объект-признак\"."
   ]
  },
  {
   "cell_type": "code",
   "execution_count": 20,
   "metadata": {},
   "outputs": [
    {
     "name": "stdout",
     "output_type": "stream",
     "text": [
      "Имеются ли пропущенные значения в целевой переменной:  1399\n",
      "       Year  Month  DayofMonth  DayOfWeek  DepTime  CRSDepTime  ArrTime  \\\n",
      "11     2008      3           6          4      NaN        1605      NaN   \n",
      "78     2008      1          19          6      NaN         750      NaN   \n",
      "103    2008      7          24          4      NaN        1230      NaN   \n",
      "112    2008      2           4          1      NaN         620      NaN   \n",
      "128    2008      1          21          1      NaN        1838      NaN   \n",
      "...     ...    ...         ...        ...      ...         ...      ...   \n",
      "69818  2008      6           9          1      NaN        1645      NaN   \n",
      "69836  2008      1          25          5      NaN         938      NaN   \n",
      "69884  2008     12          26          5      NaN        1935      NaN   \n",
      "69918  2008      3           1          6      NaN         600      NaN   \n",
      "69949  2008      1          21          1      NaN        1630      NaN   \n",
      "\n",
      "       CRSArrTime UniqueCarrier  FlightNum  ... TaxiIn  TaxiOut  Cancelled  \\\n",
      "11           1940            AA        484  ...    NaN      NaN          1   \n",
      "78            930            EV       4772  ...    NaN      NaN          1   \n",
      "103          1355            FL        816  ...    NaN      NaN          1   \n",
      "112           758            NW       1281  ...    NaN      NaN          1   \n",
      "128          2005            UA       1251  ...    NaN      NaN          1   \n",
      "...           ...           ...        ...  ...    ...      ...        ...   \n",
      "69818        1800            MQ       3627  ...    NaN      NaN          1   \n",
      "69836        1030            MQ       3254  ...    NaN      NaN          1   \n",
      "69884        2116            NW       1430  ...    NaN      NaN          1   \n",
      "69918         742            EV       4715  ...    NaN      NaN          1   \n",
      "69949        1729            MQ       4198  ...    NaN      NaN          1   \n",
      "\n",
      "       CancellationCode  Diverted  CarrierDelay WeatherDelay NASDelay  \\\n",
      "11                    B         0           NaN          NaN      NaN   \n",
      "78                    B         0           NaN          NaN      NaN   \n",
      "103                   A         0           NaN          NaN      NaN   \n",
      "112                   B         0           NaN          NaN      NaN   \n",
      "128                   A         0           NaN          NaN      NaN   \n",
      "...                 ...       ...           ...          ...      ...   \n",
      "69818                 C         0           NaN          NaN      NaN   \n",
      "69836                 B         0           NaN          NaN      NaN   \n",
      "69884                 B         0           NaN          NaN      NaN   \n",
      "69918                 A         0           NaN          NaN      NaN   \n",
      "69949                 C         0           NaN          NaN      NaN   \n",
      "\n",
      "       SecurityDelay  LateAircraftDelay  \n",
      "11               NaN                NaN  \n",
      "78               NaN                NaN  \n",
      "103              NaN                NaN  \n",
      "112              NaN                NaN  \n",
      "128              NaN                NaN  \n",
      "...              ...                ...  \n",
      "69818            NaN                NaN  \n",
      "69836            NaN                NaN  \n",
      "69884            NaN                NaN  \n",
      "69918            NaN                NaN  \n",
      "69949            NaN                NaN  \n",
      "\n",
      "[1399 rows x 29 columns]\n",
      "       Year  Month  DayofMonth  DayOfWeek  DepTime  CRSDepTime  ArrTime  \\\n",
      "0      2008      6          18          3   2111.0        2055   2308.0   \n",
      "1      2008      6           4          3   1426.0        1410   1730.0   \n",
      "2      2008      8           3          7   1143.0        1145   1501.0   \n",
      "3      2008      1          23          3   1141.0        1144   1323.0   \n",
      "4      2008      5           4          7    815.0         820   1243.0   \n",
      "...     ...    ...         ...        ...      ...         ...      ...   \n",
      "69994  2008      1          26          6    920.0         925   1110.0   \n",
      "69995  2008      5          12          1   1829.0        1840   2137.0   \n",
      "69996  2008      5          11          7   1149.0        1125   1336.0   \n",
      "69998  2008      2          18          1   1906.0        1900   2200.0   \n",
      "69999  2008     12           6          6    859.0         900    959.0   \n",
      "\n",
      "       CRSArrTime UniqueCarrier  FlightNum  ... TaxiIn  TaxiOut  Cancelled  \\\n",
      "0            2300            WN        242  ...    3.0      8.0          0   \n",
      "1            1728            XE       2380  ...    4.0     12.0          0   \n",
      "2            1520            WN       1769  ...    4.0      9.0          0   \n",
      "3            1335            OO       3802  ...    4.0     19.0          0   \n",
      "4            1300            WN        399  ...    4.0      8.0          0   \n",
      "...           ...           ...        ...  ...    ...      ...        ...   \n",
      "69994        1118            OH       5218  ...   12.0     13.0          0   \n",
      "69995        2149            DL        794  ...   22.0     20.0          0   \n",
      "69996        1314            OO       6159  ...    4.0     13.0          0   \n",
      "69998        2139            NW        641  ...   20.0     22.0          0   \n",
      "69999        1005            WN        510  ...    2.0     12.0          0   \n",
      "\n",
      "       CancellationCode  Diverted  CarrierDelay WeatherDelay NASDelay  \\\n",
      "0                   NaN         0           NaN          NaN      NaN   \n",
      "1                   NaN         0           NaN          NaN      NaN   \n",
      "2                   NaN         0           NaN          NaN      NaN   \n",
      "3                   NaN         0           NaN          NaN      NaN   \n",
      "4                   NaN         0           NaN          NaN      NaN   \n",
      "...                 ...       ...           ...          ...      ...   \n",
      "69994               NaN         0           NaN          NaN      NaN   \n",
      "69995               NaN         0           NaN          NaN      NaN   \n",
      "69996               NaN         0           0.0          0.0      0.0   \n",
      "69998               NaN         0           0.0          0.0     15.0   \n",
      "69999               NaN         0           NaN          NaN      NaN   \n",
      "\n",
      "       SecurityDelay  LateAircraftDelay  \n",
      "0                NaN                NaN  \n",
      "1                NaN                NaN  \n",
      "2                NaN                NaN  \n",
      "3                NaN                NaN  \n",
      "4                NaN                NaN  \n",
      "...              ...                ...  \n",
      "69994            NaN                NaN  \n",
      "69995            NaN                NaN  \n",
      "69996            0.0               22.0  \n",
      "69998            0.0                6.0  \n",
      "69999            NaN                NaN  \n",
      "\n",
      "[63404 rows x 29 columns]\n"
     ]
    }
   ],
   "source": [
    "cp=rf['DepDelay'].isnull().sum()\n",
    "print('Имеются ли пропущенные значения в целевой переменной: ', cp)\n",
    "ob_null=rf[(rf['DepDelay']).isnull()] \n",
    "print(ob_null)\n",
    "#Исключаем CancellationCode и Cancelled, тк опоздание рейса никак не будут зависеть от отмены рейса или причин отмены\n",
    "#Исключаем из выборки объекты с пропущенным значением целевой переменной и со значением целевой переменной, равным 0\n",
    "rf=rf[(rf.DepDelay!=0) & (rf.DepDelay.notnull())]\n",
    "print(rf)\n",
    "#Исключаем CancellationCode и Cancelled, тк опоздание рейса никак не будут зависеть от отмены рейса или причин отмены \n",
    "rf.drop(['CancellationCode','Cancelled'], axis = 1, inplace = True)\n",
    "rf.shape\n",
    "#выделяем целевую переменную в отдельный вектор, исключив её из матрицы \"объект-признак\"\n",
    "vect = rf['DepDelay']\n",
    "rf.drop(['DepDelay'], axis = 1, inplace = True)"
   ]
  },
  {
   "cell_type": "markdown",
   "metadata": {},
   "source": [
    "**13.** Обратите внимание, что признаки DepTime, CRSDepTime, ArrTime, CRSArrTime приведены в формате hhmm, в связи с чем будет не вполне корректно рассматривать их как вещественные.\n",
    "\n",
    "Преобразуйте каждый признак FeatureName из указанных в пару новых признаков FeatureName\\_Hour, FeatureName\\_Minute, разделив каждое из значений на часы и минуты. Не забудьте при этом исключить исходный признак из выборки. В случае, если значение признака отсутствует, значения двух новых признаков, его заменяющих, также должны отсутствовать. \n",
    "\n",
    "Например, признак DepTime необходимо заменить на пару признаков DepTime_Hour, DepTime_Minute. При этом, например, значение 155 исходного признака будет преобразовано в значения 1 и 55 признаков DepTime_Hour, DepTime_Minute соответственно."
   ]
  },
  {
   "cell_type": "code",
   "execution_count": 21,
   "metadata": {},
   "outputs": [
    {
     "name": "stdout",
     "output_type": "stream",
     "text": [
      "       Year  Month  DayofMonth  DayOfWeek  DepTime  CRSDepTime  ArrTime  \\\n",
      "0      2008      6          18          3   2111.0        2055   2308.0   \n",
      "1      2008      6           4          3   1426.0        1410   1730.0   \n",
      "2      2008      8           3          7   1143.0        1145   1501.0   \n",
      "3      2008      1          23          3   1141.0        1144   1323.0   \n",
      "4      2008      5           4          7    815.0         820   1243.0   \n",
      "...     ...    ...         ...        ...      ...         ...      ...   \n",
      "69994  2008      1          26          6    920.0         925   1110.0   \n",
      "69995  2008      5          12          1   1829.0        1840   2137.0   \n",
      "69996  2008      5          11          7   1149.0        1125   1336.0   \n",
      "69998  2008      2          18          1   1906.0        1900   2200.0   \n",
      "69999  2008     12           6          6    859.0         900    959.0   \n",
      "\n",
      "       CRSArrTime UniqueCarrier  FlightNum  ... SecurityDelay  \\\n",
      "0            2300            WN        242  ...           NaN   \n",
      "1            1728            XE       2380  ...           NaN   \n",
      "2            1520            WN       1769  ...           NaN   \n",
      "3            1335            OO       3802  ...           NaN   \n",
      "4            1300            WN        399  ...           NaN   \n",
      "...           ...           ...        ...  ...           ...   \n",
      "69994        1118            OH       5218  ...           NaN   \n",
      "69995        2149            DL        794  ...           NaN   \n",
      "69996        1314            OO       6159  ...           0.0   \n",
      "69998        2139            NW        641  ...           0.0   \n",
      "69999        1005            WN        510  ...           NaN   \n",
      "\n",
      "       LateAircraftDelay  DepTime_Hour  DepTime_Minute  CRSDepTime_Hour  \\\n",
      "0                    NaN          21.0            11.0               20   \n",
      "1                    NaN          14.0            26.0               14   \n",
      "2                    NaN          11.0            43.0               11   \n",
      "3                    NaN          11.0            41.0               11   \n",
      "4                    NaN           8.0            15.0                8   \n",
      "...                  ...           ...             ...              ...   \n",
      "69994                NaN           9.0            20.0                9   \n",
      "69995                NaN          18.0            29.0               18   \n",
      "69996               22.0          11.0            49.0               11   \n",
      "69998                6.0          19.0             6.0               19   \n",
      "69999                NaN           8.0            59.0                9   \n",
      "\n",
      "      CRSDepTime_Minute ArrTime_Hour  ArrTime_Minute  CRSArrTime_Hour  \\\n",
      "0                    55         23.0             8.0               23   \n",
      "1                    10         17.0            30.0               17   \n",
      "2                    45         15.0             1.0               15   \n",
      "3                    44         13.0            23.0               13   \n",
      "4                    20         12.0            43.0               13   \n",
      "...                 ...          ...             ...              ...   \n",
      "69994                25         11.0            10.0               11   \n",
      "69995                40         21.0            37.0               21   \n",
      "69996                25         13.0            36.0               13   \n",
      "69998                 0         22.0             0.0               21   \n",
      "69999                 0          9.0            59.0               10   \n",
      "\n",
      "       CRSArrTime_Minute  \n",
      "0                      0  \n",
      "1                     28  \n",
      "2                     20  \n",
      "3                     35  \n",
      "4                      0  \n",
      "...                  ...  \n",
      "69994                 18  \n",
      "69995                 49  \n",
      "69996                 14  \n",
      "69998                 39  \n",
      "69999                  5  \n",
      "\n",
      "[63404 rows x 34 columns]\n"
     ]
    },
    {
     "data": {
      "text/plain": [
       "(63404, 30)"
      ]
     },
     "execution_count": 21,
     "metadata": {},
     "output_type": "execute_result"
    }
   ],
   "source": [
    "for pr in ['DepTime', 'CRSDepTime', 'ArrTime', 'CRSArrTime']:\n",
    "    rf[pr+'_Hour'] = rf[pr]//100\n",
    "    rf[pr+'_Minute'] = rf[pr]%100\n",
    "print(rf)\n",
    "rf.drop(['DepTime', 'CRSDepTime', 'ArrTime', 'CRSArrTime'], axis = 1, inplace = True)\n",
    "rf.shape"
   ]
  },
  {
   "cell_type": "markdown",
   "metadata": {},
   "source": [
    "**14.** Некоторые из признаков, отличных от целевой переменной, могут оказывать чересчур значимое влияние на прогноз, поскольку по своему смыслу содержат большую долю информации о значении целевой переменной. Изучите описание датасета и исключите признаки, сильно коррелирующие с ответами. Ваш выбор признаков для исключения из выборки обоснуйте. Кроме того, исключите признаки TailNum и Year."
   ]
  },
  {
   "cell_type": "code",
   "execution_count": 27,
   "metadata": {},
   "outputs": [
    {
     "ename": "KeyError",
     "evalue": "\"['TailNum' 'Year'] not found in axis\"",
     "output_type": "error",
     "traceback": [
      "\u001b[1;31m---------------------------------------------------------------------------\u001b[0m",
      "\u001b[1;31mKeyError\u001b[0m                                  Traceback (most recent call last)",
      "\u001b[1;32m<ipython-input-27-0d8297cfae0e>\u001b[0m in \u001b[0;36m<module>\u001b[1;34m\u001b[0m\n\u001b[0;32m      1\u001b[0m \u001b[1;31m#Исключаем признаки TailNum и Year\u001b[0m\u001b[1;33m\u001b[0m\u001b[1;33m\u001b[0m\u001b[1;33m\u001b[0m\u001b[0m\n\u001b[1;32m----> 2\u001b[1;33m \u001b[0mrf\u001b[0m\u001b[1;33m.\u001b[0m\u001b[0mdrop\u001b[0m\u001b[1;33m(\u001b[0m\u001b[1;33m[\u001b[0m\u001b[1;34m'TailNum'\u001b[0m\u001b[1;33m,\u001b[0m\u001b[1;34m'Year'\u001b[0m\u001b[1;33m]\u001b[0m\u001b[1;33m,\u001b[0m \u001b[0maxis\u001b[0m \u001b[1;33m=\u001b[0m \u001b[1;36m1\u001b[0m\u001b[1;33m,\u001b[0m \u001b[0minplace\u001b[0m \u001b[1;33m=\u001b[0m \u001b[1;32mTrue\u001b[0m\u001b[1;33m)\u001b[0m\u001b[1;33m\u001b[0m\u001b[1;33m\u001b[0m\u001b[0m\n\u001b[0m\u001b[0;32m      3\u001b[0m \u001b[0mrf\u001b[0m\u001b[1;33m.\u001b[0m\u001b[0mshape\u001b[0m\u001b[1;33m\u001b[0m\u001b[1;33m\u001b[0m\u001b[0m\n",
      "\u001b[1;32mD:\\anaconda\\lib\\site-packages\\pandas\\core\\frame.py\u001b[0m in \u001b[0;36mdrop\u001b[1;34m(self, labels, axis, index, columns, level, inplace, errors)\u001b[0m\n\u001b[0;32m   4161\u001b[0m                 \u001b[0mweight\u001b[0m  \u001b[1;36m1.0\u001b[0m     \u001b[1;36m0.8\u001b[0m\u001b[1;33m\u001b[0m\u001b[1;33m\u001b[0m\u001b[0m\n\u001b[0;32m   4162\u001b[0m         \"\"\"\n\u001b[1;32m-> 4163\u001b[1;33m         return super().drop(\n\u001b[0m\u001b[0;32m   4164\u001b[0m             \u001b[0mlabels\u001b[0m\u001b[1;33m=\u001b[0m\u001b[0mlabels\u001b[0m\u001b[1;33m,\u001b[0m\u001b[1;33m\u001b[0m\u001b[1;33m\u001b[0m\u001b[0m\n\u001b[0;32m   4165\u001b[0m             \u001b[0maxis\u001b[0m\u001b[1;33m=\u001b[0m\u001b[0maxis\u001b[0m\u001b[1;33m,\u001b[0m\u001b[1;33m\u001b[0m\u001b[1;33m\u001b[0m\u001b[0m\n",
      "\u001b[1;32mD:\\anaconda\\lib\\site-packages\\pandas\\core\\generic.py\u001b[0m in \u001b[0;36mdrop\u001b[1;34m(self, labels, axis, index, columns, level, inplace, errors)\u001b[0m\n\u001b[0;32m   3885\u001b[0m         \u001b[1;32mfor\u001b[0m \u001b[0maxis\u001b[0m\u001b[1;33m,\u001b[0m \u001b[0mlabels\u001b[0m \u001b[1;32min\u001b[0m \u001b[0maxes\u001b[0m\u001b[1;33m.\u001b[0m\u001b[0mitems\u001b[0m\u001b[1;33m(\u001b[0m\u001b[1;33m)\u001b[0m\u001b[1;33m:\u001b[0m\u001b[1;33m\u001b[0m\u001b[1;33m\u001b[0m\u001b[0m\n\u001b[0;32m   3886\u001b[0m             \u001b[1;32mif\u001b[0m \u001b[0mlabels\u001b[0m \u001b[1;32mis\u001b[0m \u001b[1;32mnot\u001b[0m \u001b[1;32mNone\u001b[0m\u001b[1;33m:\u001b[0m\u001b[1;33m\u001b[0m\u001b[1;33m\u001b[0m\u001b[0m\n\u001b[1;32m-> 3887\u001b[1;33m                 \u001b[0mobj\u001b[0m \u001b[1;33m=\u001b[0m \u001b[0mobj\u001b[0m\u001b[1;33m.\u001b[0m\u001b[0m_drop_axis\u001b[0m\u001b[1;33m(\u001b[0m\u001b[0mlabels\u001b[0m\u001b[1;33m,\u001b[0m \u001b[0maxis\u001b[0m\u001b[1;33m,\u001b[0m \u001b[0mlevel\u001b[0m\u001b[1;33m=\u001b[0m\u001b[0mlevel\u001b[0m\u001b[1;33m,\u001b[0m \u001b[0merrors\u001b[0m\u001b[1;33m=\u001b[0m\u001b[0merrors\u001b[0m\u001b[1;33m)\u001b[0m\u001b[1;33m\u001b[0m\u001b[1;33m\u001b[0m\u001b[0m\n\u001b[0m\u001b[0;32m   3888\u001b[0m \u001b[1;33m\u001b[0m\u001b[0m\n\u001b[0;32m   3889\u001b[0m         \u001b[1;32mif\u001b[0m \u001b[0minplace\u001b[0m\u001b[1;33m:\u001b[0m\u001b[1;33m\u001b[0m\u001b[1;33m\u001b[0m\u001b[0m\n",
      "\u001b[1;32mD:\\anaconda\\lib\\site-packages\\pandas\\core\\generic.py\u001b[0m in \u001b[0;36m_drop_axis\u001b[1;34m(self, labels, axis, level, errors)\u001b[0m\n\u001b[0;32m   3919\u001b[0m                 \u001b[0mnew_axis\u001b[0m \u001b[1;33m=\u001b[0m \u001b[0maxis\u001b[0m\u001b[1;33m.\u001b[0m\u001b[0mdrop\u001b[0m\u001b[1;33m(\u001b[0m\u001b[0mlabels\u001b[0m\u001b[1;33m,\u001b[0m \u001b[0mlevel\u001b[0m\u001b[1;33m=\u001b[0m\u001b[0mlevel\u001b[0m\u001b[1;33m,\u001b[0m \u001b[0merrors\u001b[0m\u001b[1;33m=\u001b[0m\u001b[0merrors\u001b[0m\u001b[1;33m)\u001b[0m\u001b[1;33m\u001b[0m\u001b[1;33m\u001b[0m\u001b[0m\n\u001b[0;32m   3920\u001b[0m             \u001b[1;32melse\u001b[0m\u001b[1;33m:\u001b[0m\u001b[1;33m\u001b[0m\u001b[1;33m\u001b[0m\u001b[0m\n\u001b[1;32m-> 3921\u001b[1;33m                 \u001b[0mnew_axis\u001b[0m \u001b[1;33m=\u001b[0m \u001b[0maxis\u001b[0m\u001b[1;33m.\u001b[0m\u001b[0mdrop\u001b[0m\u001b[1;33m(\u001b[0m\u001b[0mlabels\u001b[0m\u001b[1;33m,\u001b[0m \u001b[0merrors\u001b[0m\u001b[1;33m=\u001b[0m\u001b[0merrors\u001b[0m\u001b[1;33m)\u001b[0m\u001b[1;33m\u001b[0m\u001b[1;33m\u001b[0m\u001b[0m\n\u001b[0m\u001b[0;32m   3922\u001b[0m             \u001b[0mresult\u001b[0m \u001b[1;33m=\u001b[0m \u001b[0mself\u001b[0m\u001b[1;33m.\u001b[0m\u001b[0mreindex\u001b[0m\u001b[1;33m(\u001b[0m\u001b[1;33m**\u001b[0m\u001b[1;33m{\u001b[0m\u001b[0maxis_name\u001b[0m\u001b[1;33m:\u001b[0m \u001b[0mnew_axis\u001b[0m\u001b[1;33m}\u001b[0m\u001b[1;33m)\u001b[0m\u001b[1;33m\u001b[0m\u001b[1;33m\u001b[0m\u001b[0m\n\u001b[0;32m   3923\u001b[0m \u001b[1;33m\u001b[0m\u001b[0m\n",
      "\u001b[1;32mD:\\anaconda\\lib\\site-packages\\pandas\\core\\indexes\\base.py\u001b[0m in \u001b[0;36mdrop\u001b[1;34m(self, labels, errors)\u001b[0m\n\u001b[0;32m   5280\u001b[0m         \u001b[1;32mif\u001b[0m \u001b[0mmask\u001b[0m\u001b[1;33m.\u001b[0m\u001b[0many\u001b[0m\u001b[1;33m(\u001b[0m\u001b[1;33m)\u001b[0m\u001b[1;33m:\u001b[0m\u001b[1;33m\u001b[0m\u001b[1;33m\u001b[0m\u001b[0m\n\u001b[0;32m   5281\u001b[0m             \u001b[1;32mif\u001b[0m \u001b[0merrors\u001b[0m \u001b[1;33m!=\u001b[0m \u001b[1;34m\"ignore\"\u001b[0m\u001b[1;33m:\u001b[0m\u001b[1;33m\u001b[0m\u001b[1;33m\u001b[0m\u001b[0m\n\u001b[1;32m-> 5282\u001b[1;33m                 \u001b[1;32mraise\u001b[0m \u001b[0mKeyError\u001b[0m\u001b[1;33m(\u001b[0m\u001b[1;34mf\"{labels[mask]} not found in axis\"\u001b[0m\u001b[1;33m)\u001b[0m\u001b[1;33m\u001b[0m\u001b[1;33m\u001b[0m\u001b[0m\n\u001b[0m\u001b[0;32m   5283\u001b[0m             \u001b[0mindexer\u001b[0m \u001b[1;33m=\u001b[0m \u001b[0mindexer\u001b[0m\u001b[1;33m[\u001b[0m\u001b[1;33m~\u001b[0m\u001b[0mmask\u001b[0m\u001b[1;33m]\u001b[0m\u001b[1;33m\u001b[0m\u001b[1;33m\u001b[0m\u001b[0m\n\u001b[0;32m   5284\u001b[0m         \u001b[1;32mreturn\u001b[0m \u001b[0mself\u001b[0m\u001b[1;33m.\u001b[0m\u001b[0mdelete\u001b[0m\u001b[1;33m(\u001b[0m\u001b[0mindexer\u001b[0m\u001b[1;33m)\u001b[0m\u001b[1;33m\u001b[0m\u001b[1;33m\u001b[0m\u001b[0m\n",
      "\u001b[1;31mKeyError\u001b[0m: \"['TailNum' 'Year'] not found in axis\""
     ]
    }
   ],
   "source": [
    "#Исключаем признаки TailNum и Year\n",
    "rf.drop(['TailNum','Year'], axis = 1, inplace = True)\n",
    "rf.shape"
   ]
  },
  {
   "cell_type": "code",
   "execution_count": 26,
   "metadata": {},
   "outputs": [
    {
     "data": {
      "text/html": [
       "<div>\n",
       "<style scoped>\n",
       "    .dataframe tbody tr th:only-of-type {\n",
       "        vertical-align: middle;\n",
       "    }\n",
       "\n",
       "    .dataframe tbody tr th {\n",
       "        vertical-align: top;\n",
       "    }\n",
       "\n",
       "    .dataframe thead th {\n",
       "        text-align: right;\n",
       "    }\n",
       "</style>\n",
       "<table border=\"1\" class=\"dataframe\">\n",
       "  <thead>\n",
       "    <tr style=\"text-align: right;\">\n",
       "      <th></th>\n",
       "      <th>Month</th>\n",
       "      <th>DayofMonth</th>\n",
       "      <th>DayOfWeek</th>\n",
       "      <th>FlightNum</th>\n",
       "      <th>Distance</th>\n",
       "      <th>TaxiIn</th>\n",
       "      <th>TaxiOut</th>\n",
       "      <th>Diverted</th>\n",
       "      <th>DepTime_Hour</th>\n",
       "      <th>DepTime_Minute</th>\n",
       "      <th>CRSDepTime_Hour</th>\n",
       "      <th>CRSDepTime_Minute</th>\n",
       "      <th>ArrTime_Hour</th>\n",
       "      <th>ArrTime_Minute</th>\n",
       "      <th>CRSArrTime_Hour</th>\n",
       "      <th>CRSArrTime_Minute</th>\n",
       "    </tr>\n",
       "  </thead>\n",
       "  <tbody>\n",
       "    <tr>\n",
       "      <th>Month</th>\n",
       "      <td>1.000000</td>\n",
       "      <td>-0.004838</td>\n",
       "      <td>-0.010617</td>\n",
       "      <td>0.006598</td>\n",
       "      <td>-0.006289</td>\n",
       "      <td>0.007768</td>\n",
       "      <td>-0.014431</td>\n",
       "      <td>0.000721</td>\n",
       "      <td>-0.008803</td>\n",
       "      <td>0.002405</td>\n",
       "      <td>-0.006727</td>\n",
       "      <td>0.011477</td>\n",
       "      <td>-0.002887</td>\n",
       "      <td>-0.001491</td>\n",
       "      <td>0.002805</td>\n",
       "      <td>-0.005353</td>\n",
       "    </tr>\n",
       "    <tr>\n",
       "      <th>DayofMonth</th>\n",
       "      <td>-0.004838</td>\n",
       "      <td>1.000000</td>\n",
       "      <td>0.015818</td>\n",
       "      <td>0.009847</td>\n",
       "      <td>-0.007196</td>\n",
       "      <td>-0.002673</td>\n",
       "      <td>-0.002481</td>\n",
       "      <td>0.002144</td>\n",
       "      <td>0.001605</td>\n",
       "      <td>0.006268</td>\n",
       "      <td>0.002206</td>\n",
       "      <td>-0.000784</td>\n",
       "      <td>-0.001435</td>\n",
       "      <td>-0.006125</td>\n",
       "      <td>0.000708</td>\n",
       "      <td>0.001285</td>\n",
       "    </tr>\n",
       "    <tr>\n",
       "      <th>DayOfWeek</th>\n",
       "      <td>-0.010617</td>\n",
       "      <td>0.015818</td>\n",
       "      <td>1.000000</td>\n",
       "      <td>-0.005878</td>\n",
       "      <td>0.014755</td>\n",
       "      <td>0.001024</td>\n",
       "      <td>-0.005622</td>\n",
       "      <td>0.004786</td>\n",
       "      <td>0.005866</td>\n",
       "      <td>-0.000551</td>\n",
       "      <td>0.005484</td>\n",
       "      <td>-0.000623</td>\n",
       "      <td>0.005762</td>\n",
       "      <td>-0.000901</td>\n",
       "      <td>0.006235</td>\n",
       "      <td>0.000784</td>\n",
       "    </tr>\n",
       "    <tr>\n",
       "      <th>FlightNum</th>\n",
       "      <td>0.006598</td>\n",
       "      <td>0.009847</td>\n",
       "      <td>-0.005878</td>\n",
       "      <td>1.000000</td>\n",
       "      <td>-0.350380</td>\n",
       "      <td>-0.005973</td>\n",
       "      <td>0.002628</td>\n",
       "      <td>-0.003012</td>\n",
       "      <td>-0.003754</td>\n",
       "      <td>-0.006509</td>\n",
       "      <td>-0.011477</td>\n",
       "      <td>-0.002824</td>\n",
       "      <td>-0.019202</td>\n",
       "      <td>0.001697</td>\n",
       "      <td>-0.031454</td>\n",
       "      <td>0.018267</td>\n",
       "    </tr>\n",
       "    <tr>\n",
       "      <th>Distance</th>\n",
       "      <td>-0.006289</td>\n",
       "      <td>-0.007196</td>\n",
       "      <td>0.014755</td>\n",
       "      <td>-0.350380</td>\n",
       "      <td>1.000000</td>\n",
       "      <td>0.072517</td>\n",
       "      <td>0.090600</td>\n",
       "      <td>0.018590</td>\n",
       "      <td>-0.016906</td>\n",
       "      <td>-0.000497</td>\n",
       "      <td>-0.011925</td>\n",
       "      <td>0.015068</td>\n",
       "      <td>0.024635</td>\n",
       "      <td>0.002774</td>\n",
       "      <td>0.047643</td>\n",
       "      <td>0.005432</td>\n",
       "    </tr>\n",
       "    <tr>\n",
       "      <th>TaxiIn</th>\n",
       "      <td>0.007768</td>\n",
       "      <td>-0.002673</td>\n",
       "      <td>0.001024</td>\n",
       "      <td>-0.005973</td>\n",
       "      <td>0.072517</td>\n",
       "      <td>1.000000</td>\n",
       "      <td>0.039556</td>\n",
       "      <td>-0.001945</td>\n",
       "      <td>-0.046532</td>\n",
       "      <td>-0.001050</td>\n",
       "      <td>-0.052721</td>\n",
       "      <td>-0.013244</td>\n",
       "      <td>0.001059</td>\n",
       "      <td>-0.009682</td>\n",
       "      <td>-0.012198</td>\n",
       "      <td>-0.002818</td>\n",
       "    </tr>\n",
       "    <tr>\n",
       "      <th>TaxiOut</th>\n",
       "      <td>-0.014431</td>\n",
       "      <td>-0.002481</td>\n",
       "      <td>-0.005622</td>\n",
       "      <td>0.002628</td>\n",
       "      <td>0.090600</td>\n",
       "      <td>0.039556</td>\n",
       "      <td>1.000000</td>\n",
       "      <td>0.022172</td>\n",
       "      <td>0.051535</td>\n",
       "      <td>0.000526</td>\n",
       "      <td>0.041541</td>\n",
       "      <td>-0.001402</td>\n",
       "      <td>0.043886</td>\n",
       "      <td>0.001425</td>\n",
       "      <td>0.059814</td>\n",
       "      <td>0.018710</td>\n",
       "    </tr>\n",
       "    <tr>\n",
       "      <th>Diverted</th>\n",
       "      <td>0.000721</td>\n",
       "      <td>0.002144</td>\n",
       "      <td>0.004786</td>\n",
       "      <td>-0.003012</td>\n",
       "      <td>0.018590</td>\n",
       "      <td>-0.001945</td>\n",
       "      <td>0.022172</td>\n",
       "      <td>1.000000</td>\n",
       "      <td>0.005684</td>\n",
       "      <td>-0.002487</td>\n",
       "      <td>0.003163</td>\n",
       "      <td>-0.000544</td>\n",
       "      <td>-0.009086</td>\n",
       "      <td>0.004349</td>\n",
       "      <td>0.013582</td>\n",
       "      <td>-0.000412</td>\n",
       "    </tr>\n",
       "    <tr>\n",
       "      <th>DepTime_Hour</th>\n",
       "      <td>-0.008803</td>\n",
       "      <td>0.001605</td>\n",
       "      <td>0.005866</td>\n",
       "      <td>-0.003754</td>\n",
       "      <td>-0.016906</td>\n",
       "      <td>-0.046532</td>\n",
       "      <td>0.051535</td>\n",
       "      <td>0.005684</td>\n",
       "      <td>1.000000</td>\n",
       "      <td>-0.077192</td>\n",
       "      <td>0.959597</td>\n",
       "      <td>0.088525</td>\n",
       "      <td>0.706969</td>\n",
       "      <td>0.008245</td>\n",
       "      <td>0.787868</td>\n",
       "      <td>0.028640</td>\n",
       "    </tr>\n",
       "    <tr>\n",
       "      <th>DepTime_Minute</th>\n",
       "      <td>0.002405</td>\n",
       "      <td>0.006268</td>\n",
       "      <td>-0.000551</td>\n",
       "      <td>-0.006509</td>\n",
       "      <td>-0.000497</td>\n",
       "      <td>-0.001050</td>\n",
       "      <td>0.000526</td>\n",
       "      <td>-0.002487</td>\n",
       "      <td>-0.077192</td>\n",
       "      <td>1.000000</td>\n",
       "      <td>-0.036923</td>\n",
       "      <td>0.255442</td>\n",
       "      <td>-0.019308</td>\n",
       "      <td>0.013563</td>\n",
       "      <td>-0.018996</td>\n",
       "      <td>0.003356</td>\n",
       "    </tr>\n",
       "    <tr>\n",
       "      <th>CRSDepTime_Hour</th>\n",
       "      <td>-0.006727</td>\n",
       "      <td>0.002206</td>\n",
       "      <td>0.005484</td>\n",
       "      <td>-0.011477</td>\n",
       "      <td>-0.011925</td>\n",
       "      <td>-0.052721</td>\n",
       "      <td>0.041541</td>\n",
       "      <td>0.003163</td>\n",
       "      <td>0.959597</td>\n",
       "      <td>-0.036923</td>\n",
       "      <td>1.000000</td>\n",
       "      <td>0.047769</td>\n",
       "      <td>0.685465</td>\n",
       "      <td>0.008590</td>\n",
       "      <td>0.785941</td>\n",
       "      <td>0.028171</td>\n",
       "    </tr>\n",
       "    <tr>\n",
       "      <th>CRSDepTime_Minute</th>\n",
       "      <td>0.011477</td>\n",
       "      <td>-0.000784</td>\n",
       "      <td>-0.000623</td>\n",
       "      <td>-0.002824</td>\n",
       "      <td>0.015068</td>\n",
       "      <td>-0.013244</td>\n",
       "      <td>-0.001402</td>\n",
       "      <td>-0.000544</td>\n",
       "      <td>0.088525</td>\n",
       "      <td>0.255442</td>\n",
       "      <td>0.047769</td>\n",
       "      <td>1.000000</td>\n",
       "      <td>0.079174</td>\n",
       "      <td>0.014155</td>\n",
       "      <td>0.083759</td>\n",
       "      <td>0.022834</td>\n",
       "    </tr>\n",
       "    <tr>\n",
       "      <th>ArrTime_Hour</th>\n",
       "      <td>-0.002887</td>\n",
       "      <td>-0.001435</td>\n",
       "      <td>0.005762</td>\n",
       "      <td>-0.019202</td>\n",
       "      <td>0.024635</td>\n",
       "      <td>0.001059</td>\n",
       "      <td>0.043886</td>\n",
       "      <td>-0.009086</td>\n",
       "      <td>0.706969</td>\n",
       "      <td>-0.019308</td>\n",
       "      <td>0.685465</td>\n",
       "      <td>0.079174</td>\n",
       "      <td>1.000000</td>\n",
       "      <td>-0.022279</td>\n",
       "      <td>0.852284</td>\n",
       "      <td>0.008675</td>\n",
       "    </tr>\n",
       "    <tr>\n",
       "      <th>ArrTime_Minute</th>\n",
       "      <td>-0.001491</td>\n",
       "      <td>-0.006125</td>\n",
       "      <td>-0.000901</td>\n",
       "      <td>0.001697</td>\n",
       "      <td>0.002774</td>\n",
       "      <td>-0.009682</td>\n",
       "      <td>0.001425</td>\n",
       "      <td>0.004349</td>\n",
       "      <td>0.008245</td>\n",
       "      <td>0.013563</td>\n",
       "      <td>0.008590</td>\n",
       "      <td>0.014155</td>\n",
       "      <td>-0.022279</td>\n",
       "      <td>1.000000</td>\n",
       "      <td>0.001164</td>\n",
       "      <td>0.177660</td>\n",
       "    </tr>\n",
       "    <tr>\n",
       "      <th>CRSArrTime_Hour</th>\n",
       "      <td>0.002805</td>\n",
       "      <td>0.000708</td>\n",
       "      <td>0.006235</td>\n",
       "      <td>-0.031454</td>\n",
       "      <td>0.047643</td>\n",
       "      <td>-0.012198</td>\n",
       "      <td>0.059814</td>\n",
       "      <td>0.013582</td>\n",
       "      <td>0.787868</td>\n",
       "      <td>-0.018996</td>\n",
       "      <td>0.785941</td>\n",
       "      <td>0.083759</td>\n",
       "      <td>0.852284</td>\n",
       "      <td>0.001164</td>\n",
       "      <td>1.000000</td>\n",
       "      <td>-0.008834</td>\n",
       "    </tr>\n",
       "    <tr>\n",
       "      <th>CRSArrTime_Minute</th>\n",
       "      <td>-0.005353</td>\n",
       "      <td>0.001285</td>\n",
       "      <td>0.000784</td>\n",
       "      <td>0.018267</td>\n",
       "      <td>0.005432</td>\n",
       "      <td>-0.002818</td>\n",
       "      <td>0.018710</td>\n",
       "      <td>-0.000412</td>\n",
       "      <td>0.028640</td>\n",
       "      <td>0.003356</td>\n",
       "      <td>0.028171</td>\n",
       "      <td>0.022834</td>\n",
       "      <td>0.008675</td>\n",
       "      <td>0.177660</td>\n",
       "      <td>-0.008834</td>\n",
       "      <td>1.000000</td>\n",
       "    </tr>\n",
       "  </tbody>\n",
       "</table>\n",
       "</div>"
      ],
      "text/plain": [
       "                      Month  DayofMonth  DayOfWeek  FlightNum  Distance  \\\n",
       "Month              1.000000   -0.004838  -0.010617   0.006598 -0.006289   \n",
       "DayofMonth        -0.004838    1.000000   0.015818   0.009847 -0.007196   \n",
       "DayOfWeek         -0.010617    0.015818   1.000000  -0.005878  0.014755   \n",
       "FlightNum          0.006598    0.009847  -0.005878   1.000000 -0.350380   \n",
       "Distance          -0.006289   -0.007196   0.014755  -0.350380  1.000000   \n",
       "TaxiIn             0.007768   -0.002673   0.001024  -0.005973  0.072517   \n",
       "TaxiOut           -0.014431   -0.002481  -0.005622   0.002628  0.090600   \n",
       "Diverted           0.000721    0.002144   0.004786  -0.003012  0.018590   \n",
       "DepTime_Hour      -0.008803    0.001605   0.005866  -0.003754 -0.016906   \n",
       "DepTime_Minute     0.002405    0.006268  -0.000551  -0.006509 -0.000497   \n",
       "CRSDepTime_Hour   -0.006727    0.002206   0.005484  -0.011477 -0.011925   \n",
       "CRSDepTime_Minute  0.011477   -0.000784  -0.000623  -0.002824  0.015068   \n",
       "ArrTime_Hour      -0.002887   -0.001435   0.005762  -0.019202  0.024635   \n",
       "ArrTime_Minute    -0.001491   -0.006125  -0.000901   0.001697  0.002774   \n",
       "CRSArrTime_Hour    0.002805    0.000708   0.006235  -0.031454  0.047643   \n",
       "CRSArrTime_Minute -0.005353    0.001285   0.000784   0.018267  0.005432   \n",
       "\n",
       "                     TaxiIn   TaxiOut  Diverted  DepTime_Hour  DepTime_Minute  \\\n",
       "Month              0.007768 -0.014431  0.000721     -0.008803        0.002405   \n",
       "DayofMonth        -0.002673 -0.002481  0.002144      0.001605        0.006268   \n",
       "DayOfWeek          0.001024 -0.005622  0.004786      0.005866       -0.000551   \n",
       "FlightNum         -0.005973  0.002628 -0.003012     -0.003754       -0.006509   \n",
       "Distance           0.072517  0.090600  0.018590     -0.016906       -0.000497   \n",
       "TaxiIn             1.000000  0.039556 -0.001945     -0.046532       -0.001050   \n",
       "TaxiOut            0.039556  1.000000  0.022172      0.051535        0.000526   \n",
       "Diverted          -0.001945  0.022172  1.000000      0.005684       -0.002487   \n",
       "DepTime_Hour      -0.046532  0.051535  0.005684      1.000000       -0.077192   \n",
       "DepTime_Minute    -0.001050  0.000526 -0.002487     -0.077192        1.000000   \n",
       "CRSDepTime_Hour   -0.052721  0.041541  0.003163      0.959597       -0.036923   \n",
       "CRSDepTime_Minute -0.013244 -0.001402 -0.000544      0.088525        0.255442   \n",
       "ArrTime_Hour       0.001059  0.043886 -0.009086      0.706969       -0.019308   \n",
       "ArrTime_Minute    -0.009682  0.001425  0.004349      0.008245        0.013563   \n",
       "CRSArrTime_Hour   -0.012198  0.059814  0.013582      0.787868       -0.018996   \n",
       "CRSArrTime_Minute -0.002818  0.018710 -0.000412      0.028640        0.003356   \n",
       "\n",
       "                   CRSDepTime_Hour  CRSDepTime_Minute  ArrTime_Hour  \\\n",
       "Month                    -0.006727           0.011477     -0.002887   \n",
       "DayofMonth                0.002206          -0.000784     -0.001435   \n",
       "DayOfWeek                 0.005484          -0.000623      0.005762   \n",
       "FlightNum                -0.011477          -0.002824     -0.019202   \n",
       "Distance                 -0.011925           0.015068      0.024635   \n",
       "TaxiIn                   -0.052721          -0.013244      0.001059   \n",
       "TaxiOut                   0.041541          -0.001402      0.043886   \n",
       "Diverted                  0.003163          -0.000544     -0.009086   \n",
       "DepTime_Hour              0.959597           0.088525      0.706969   \n",
       "DepTime_Minute           -0.036923           0.255442     -0.019308   \n",
       "CRSDepTime_Hour           1.000000           0.047769      0.685465   \n",
       "CRSDepTime_Minute         0.047769           1.000000      0.079174   \n",
       "ArrTime_Hour              0.685465           0.079174      1.000000   \n",
       "ArrTime_Minute            0.008590           0.014155     -0.022279   \n",
       "CRSArrTime_Hour           0.785941           0.083759      0.852284   \n",
       "CRSArrTime_Minute         0.028171           0.022834      0.008675   \n",
       "\n",
       "                   ArrTime_Minute  CRSArrTime_Hour  CRSArrTime_Minute  \n",
       "Month                   -0.001491         0.002805          -0.005353  \n",
       "DayofMonth              -0.006125         0.000708           0.001285  \n",
       "DayOfWeek               -0.000901         0.006235           0.000784  \n",
       "FlightNum                0.001697        -0.031454           0.018267  \n",
       "Distance                 0.002774         0.047643           0.005432  \n",
       "TaxiIn                  -0.009682        -0.012198          -0.002818  \n",
       "TaxiOut                  0.001425         0.059814           0.018710  \n",
       "Diverted                 0.004349         0.013582          -0.000412  \n",
       "DepTime_Hour             0.008245         0.787868           0.028640  \n",
       "DepTime_Minute           0.013563        -0.018996           0.003356  \n",
       "CRSDepTime_Hour          0.008590         0.785941           0.028171  \n",
       "CRSDepTime_Minute        0.014155         0.083759           0.022834  \n",
       "ArrTime_Hour            -0.022279         0.852284           0.008675  \n",
       "ArrTime_Minute           1.000000         0.001164           0.177660  \n",
       "CRSArrTime_Hour          0.001164         1.000000          -0.008834  \n",
       "CRSArrTime_Minute        0.177660        -0.008834           1.000000  "
      ]
     },
     "execution_count": 26,
     "metadata": {},
     "output_type": "execute_result"
    }
   ],
   "source": [
    "rf.corr()"
   ]
  },
  {
   "cell_type": "code",
   "execution_count": null,
   "metadata": {},
   "outputs": [],
   "source": [
    "#Исключаем признаки, оказывающуие значимое влияние на прогноз\n",
    "rf.drop(['ArrDelay','CarrierDelay', 'WeatherDelay','NASDelay', 'SecurityDelay','LateAircraftDelay'], axis = 1, inplace = True)"
   ]
  },
  {
   "cell_type": "code",
   "execution_count": null,
   "metadata": {},
   "outputs": [],
   "source": [
    "#Исключаем признаки, сильно коррелирующие с ответами\n",
    "rf.drop(['CRSElapsedTime','ActualElapsedTime','AirTime'], axis = 1, inplace = True)\n",
    "rf.shape"
   ]
  },
  {
   "cell_type": "markdown",
   "metadata": {},
   "source": [
    "**15.** Приведем данные к виду, пригодному для обучения линейных моделей. Для этого вещественные признаки надо отмасштабировать, а категориальные — привести к числовому виду. Также надо устранить пропуски в данных."
   ]
  },
  {
   "cell_type": "markdown",
   "metadata": {},
   "source": [
    "В первую очередь поймем, зачем необходимо применять масштабирование. Следующие ячейки с кодом построят гистограммы для 3 вещественных признаков выборки."
   ]
  },
  {
   "cell_type": "code",
   "execution_count": 28,
   "metadata": {
    "scrolled": true
   },
   "outputs": [
    {
     "ename": "IndexError",
     "evalue": "only integers, slices (`:`), ellipsis (`...`), numpy.newaxis (`None`) and integer or boolean arrays are valid indices",
     "output_type": "error",
     "traceback": [
      "\u001b[1;31m---------------------------------------------------------------------------\u001b[0m",
      "\u001b[1;31mIndexError\u001b[0m                                Traceback (most recent call last)",
      "\u001b[1;32m<ipython-input-28-4e7f6b755b72>\u001b[0m in \u001b[0;36m<module>\u001b[1;34m\u001b[0m\n\u001b[1;32m----> 1\u001b[1;33m \u001b[0mX\u001b[0m\u001b[1;33m[\u001b[0m\u001b[1;34m'DepTime_Hour'\u001b[0m\u001b[1;33m]\u001b[0m\u001b[1;33m.\u001b[0m\u001b[0mhist\u001b[0m\u001b[1;33m(\u001b[0m\u001b[0mbins\u001b[0m\u001b[1;33m=\u001b[0m\u001b[1;36m20\u001b[0m\u001b[1;33m)\u001b[0m\u001b[1;33m\u001b[0m\u001b[1;33m\u001b[0m\u001b[0m\n\u001b[0m",
      "\u001b[1;31mIndexError\u001b[0m: only integers, slices (`:`), ellipsis (`...`), numpy.newaxis (`None`) and integer or boolean arrays are valid indices"
     ]
    }
   ],
   "source": [
    "X['DepTime_Hour'].hist(bins=20)"
   ]
  },
  {
   "cell_type": "code",
   "execution_count": null,
   "metadata": {},
   "outputs": [],
   "source": [
    "X['TaxiIn'].hist(bins=20)"
   ]
  },
  {
   "cell_type": "code",
   "execution_count": null,
   "metadata": {},
   "outputs": [],
   "source": [
    "X['FlightNum'].hist(bins=20)"
   ]
  },
  {
   "cell_type": "markdown",
   "metadata": {},
   "source": [
    "Какую проблему вы наблюдаете на этих графиках? Как масштабирование поможет её исправить?"
   ]
  },
  {
   "cell_type": "raw",
   "metadata": {},
   "source": []
  },
  {
   "cell_type": "markdown",
   "metadata": {},
   "source": [
    "Некоторые из признаков в нашем датасете являются категориальными. Типичным подходом к работе с ними является бинарное, или [one-hot-кодирование](https://en.wikipedia.org/wiki/One-hot).\n",
    "\n",
    "Реализуйте функцию transform_data, которая принимает на вход DataFrame с признаками и выполняет следующие шаги:\n",
    "1. Замена пропущенных значений на нули для вещественных признаков и на строки 'nan' для категориальных.\n",
    "2. Масштабирование вещественных признаков с помощью [StandardScaler](http://scikit-learn.org/stable/modules/generated/sklearn.preprocessing.StandardScaler.html).\n",
    "3. One-hot-кодирование категориальных признаков с помощью [DictVectorizer](http://scikit-learn.org/stable/modules/generated/sklearn.feature_extraction.DictVectorizer.html) или функции [pd.get_dummies](http://pandas.pydata.org/pandas-docs/stable/generated/pandas.get_dummies.html).\n",
    "\n",
    "Метод должен возвращать преобразованный DataFrame, который должна состоять из масштабированных вещественных признаков и закодированных категориальных (исходные признаки должны быть исключены из выборки)."
   ]
  },
  {
   "cell_type": "code",
   "execution_count": null,
   "metadata": {
    "collapsed": true
   },
   "outputs": [],
   "source": [
    "from sklearn.preprocessing import StandardScaler\n",
    "\n",
    "def transform_data(data):\n",
    "    ss = StandardScaler()\n",
    "    for col in data.columns:\n",
    "        if data[col].dtype.name == 'object':\n",
    "            data[col].fillna('nan', inplace = True)\n",
    "        else:\n",
    "            data[col].fillna(0, inplace = True)\n",
    "            data[col]= ss.fit_transform(data[col].values.reshape(-1, 1)).flatten('F')\n",
    "    data = pd.get_dummies(data)\n",
    "    return data "
   ]
  },
  {
   "cell_type": "markdown",
   "metadata": {},
   "source": [
    "Примените функцию transform_data к данным. Сколько признаков получилось после преобразования?"
   ]
  },
  {
   "cell_type": "code",
   "execution_count": null,
   "metadata": {
    "collapsed": true
   },
   "outputs": [],
   "source": [
    "rf_transform_data=transform_data(rf)\n",
    "rf_transform_data.shape\n",
    "print('После преобразования получилось ', rf_transform_data.shape[1], ' признака')"
   ]
  },
  {
   "cell_type": "markdown",
   "metadata": {},
   "source": [
    "**16. (0.5 балла)** Разбейте выборку и вектор целевой переменной на обучение и контроль в отношении 70/30 (для этого можно использовать, например, функцию [train_test_split](http://scikit-learn.org/stable/modules/generated/sklearn.cross_validation.train_test_split.html)). "
   ]
  },
  {
   "cell_type": "code",
   "execution_count": null,
   "metadata": {
    "collapsed": true
   },
   "outputs": [],
   "source": [
    "from sklearn.model_selection import train_test_split\n",
    "X_train, X_test, y_train, y_test = train_test_split(rf_transform_data, vect, test_size=0.3, random_state=42)"
   ]
  },
  {
   "cell_type": "markdown",
   "metadata": {},
   "source": [
    "### Scikit-learn\n",
    "\n",
    "<img src = \"https://pp.vk.me/c4534/u35727827/93547647/x_d31c4463.jpg\">\n",
    "Теперь, когда мы привели данные к пригодному виду, попробуем решить задачу при помощи метода наименьших квадратов. Напомним, что данный метод заключается в оптимизации функционала $MSE$:\n",
    "\n",
    "$$MSE(X, y) = \\frac{1}{l} \\sum_{i=1}^l (<w, x_i> - y_i)^2 \\to \\min_{w},$$\n",
    "\n",
    "где $\\{ (x_i, y_i ) \\}_{i=1}^l$ — обучающая выборка, состоящая из $l$ пар объект-ответ.\n",
    "\n",
    "Заметим, что решение данной задачи уже реализовано в модуле sklearn в виде класса [LinearRegression](http://scikit-learn.org/stable/modules/generated/sklearn.linear_model.LinearRegression.html#sklearn.linear_model.LinearRegression).\n",
    "\n",
    "**17.** Обучите линейную регрессию на 1000 объектах из обучающей выборки и выведите значения $MSE$ и $R^2$ на этой подвыборке и контрольной выборке (итого 4 различных числа). Проинтерпретируйте полученный результат — насколько качественные прогнозы строит полученная модель? Какие проблемы наблюдаются в модели?\n",
    "\n",
    "**Подсказка**: изучите значения полученных коэффициентов $w$, сохраненных в атрибуте coef_ объекта LinearRegression."
   ]
  },
  {
   "cell_type": "code",
   "execution_count": null,
   "metadata": {
    "collapsed": true
   },
   "outputs": [],
   "source": [
    "from sklearn.linear_model import LinearRegression\n",
    "\n",
    "X_train1, y_train1 = X_train[:1000], y_train[:1000]\n",
    "lr = LinearRegression()\n",
    "lr.fit(X_train1, y_train1)\n",
    "lr_train = lr.predict(X_train1)\n",
    "lr_test = lr.predict(X_test)\n",
    "\n",
    "from sklearn.metrics import mean_squared_error\n",
    "\n",
    "mse_train=mean_squared_error(y_train1, lr_train)\n",
    "mse_test=mean_squared_error(y_test, lr_test)\n",
    "\n",
    "from sklearn.metrics import r2_score\n",
    "\n",
    "r2_score_train=r2_score(y_train1, lr_train)\n",
    "r2_score_test=r2_score(y_test, lr_test)\n",
    "\n",
    "print('Train','\\n','MSE: ', mse_train,'\\n','𝑅2: ', r2_score_train,'\\n')\n",
    "print('Test','\\n','MSE: ', mse_test,'\\n','𝑅2: ', r2_score_test)\n",
    "\n",
    "lr.coef_ "
   ]
  },
  {
   "cell_type": "markdown",
   "metadata": {
    "collapsed": true
   },
   "source": [
    "Для решения описанных вами в предыдущем пункте проблем используем L1- или L2-регуляризацию, тем самым получив Lasso и Ridge регрессии соответственно и изменив оптимизационную задачу одним из следующих образов:\n",
    "$$MSE_{L1}(X, y) = \\frac{1}{l} \\sum_{i=1}^l (<w, x_i> - y_i)^2 + \\alpha ||w||_1 \\to \\min_{w},$$\n",
    "$$MSE_{L2}(X, y) = \\frac{1}{l} \\sum_{i=1}^l (<w, x_i> - y_i)^2 + \\alpha ||w||_2^2 \\to \\min_{w},$$\n",
    "\n",
    "где $\\alpha$ — коэффициент регуляризации. Один из способов его подбора заключается в переборе некоторого количества значений и оценке качества на кросс-валидации для каждого из них, после чего выбирается значение, для которого было получено наилучшее качество.\n",
    "\n",
    "**18.** Обучите линейные регрессии с L1- и L2-регуляризатором, подобрав лучшее значение параметра регуляризации из списка alpha_grid при помощи кросс-валидации c 5 фолдами на тех же 1000 объектах, что и в п.17. Выведите значения $MSE$ и $R^2$ на обучающей и контрольной выборках. Удалось ли решить указанные вами ранее проблемы?\n",
    "\n",
    "Для выполнения данного задания вам могут понадобиться реализованные в библиотеке объекты [LassoCV](http://scikit-learn.org/stable/modules/generated/sklearn.linear_model.LassoCV.html), [RidgeCV](http://scikit-learn.org/stable/modules/generated/sklearn.linear_model.RidgeCV.html) и [KFold](http://scikit-learn.org/stable/modules/generated/sklearn.cross_validation.KFold.html).\n"
   ]
  },
  {
   "cell_type": "code",
   "execution_count": null,
   "metadata": {},
   "outputs": [],
   "source": [
    "from sklearn.linear_model import LassoCV\n",
    "from sklearn.linear_model import RidgeCV\n",
    "from sklearn.model_selection import KFold\n",
    "\n",
    "LassR = LassoCV(alphas=np.linspace(0.1, 100, num=1000), cv=KFold(n_splits=5,random_state=42))\n",
    "LassR.fit(X_train1, y_train1)\n",
    "LassR_train = LassR.predict(X_train1)\n",
    "LassR_test = LassR.predict(X_test)\n",
    "\n",
    "LassR.alpha_\n",
    "\n",
    "mse_train_LassR=mean_squared_error(y_train1, LassR_train)\n",
    "mse_test_LassR=mean_squared_error(y_test, LassR_test)\n",
    "\n",
    "r2_score_train_LassR=r2_score(y_train1, LassR_train)\n",
    "r2_score_test_LassR=r2_score(y_test, LassR_test)\n",
    "\n",
    "print('Train','\\n','MSE: ', mse_train_LassR,'\\n','𝑅2: ', r2_score_train_LassR,'\\n')\n",
    "print('Test','\\n','MSE: ', mse_test_LassR,'\\n','𝑅2: ', r2_score_test_LassR)\n",
    "\n",
    "RidgeR = RidgeCV(alphas=np.linspace(0.1, 150, num=1000), cv=KFold(n_splits=5,random_state=42))\n",
    "RidgeR.fit(X_train1, y_train1)\n",
    "RidgeR_train = RidgeR.predict(X_train1)\n",
    "RidgeR_test = RidgeR.predict(X_test)\n",
    "\n",
    "RidgeR.alpha_\n",
    "\n",
    "mse_train_RidgeR=mean_squared_error(y_train1, RidgeR_train)\n",
    "mse_test_RidgeR=mean_squared_error(y_test, RidgeR_test)\n",
    "\n",
    "r2_score_train_RidgeR=r2_score(y_train1, RidgeR_train)\n",
    "r2_score_test_RidgeR=r2_score(y_test, RidgeR_test)\n",
    "\n",
    "print('Train','\\n','MSE: ', mse_train_RidgeR,'\\n','𝑅2: ', r2_score_train_RidgeR,'\\n')\n",
    "print('Test','\\n','MSE: ', mse_test_RidgeR,'\\n','𝑅2: ', r2_score_test_RidgeR)"
   ]
  },
  {
   "cell_type": "markdown",
   "metadata": {},
   "source": [
    "### Градиентный спуск\n",
    "\n",
    "В предыдущем разделе мы использовали существующие реализации методов обучения линейной регрессии с регуляризацией и без. Тем не менее, подобные реализации, как правило, имеются лишь для ограниченного набора стандартных методов. В частности, при выходе функционала качества за пределы стандартного множества необходимо самостоятельно реализовывать составляющие процесса решения оптимизационной задачи. Именно этому и посвящен данный раздел задания.\n",
    "\n",
    "Пусть необходимо минимизировать следующий функционал (Mean Square Percentage Error — модифицированный [RMSPE](https://www.kaggle.com/c/rossmann-store-sales/details/evaluation)):\n",
    "$$MSPE(\\{x_i, y_i\\}_{i=1}^l, \\, w) = \\frac{1}{l}\\sum_{i=1}^l \\left( \\frac{y_i - \\langle w, x_i \\rangle }{y_i} \\right)^2,$$\n",
    "\n",
    "где $\\{x_i, y_i\\}_{i=1}^l$ — обучающая выборка, $w$ — вектор весов линейной модели. Будем также рассматривать функционал $MSPE$ с L2-регуляризацией:\n",
    "\n",
    "$$MSPE(\\{x_i, y_i\\}_{i=1}^l, \\, w) = \\frac{1}{l}\\sum_{i=1}^l \\left( \\frac{y_i - \\langle w, x_i \\rangle }{y_i} \\right)^2 + ||w||_2^2.$$\n",
    "\n",
    "**19.** Добавьте к объектам обеих выборок из п. 16 единичный признак."
   ]
  },
  {
   "cell_type": "code",
   "execution_count": null,
   "metadata": {
    "collapsed": true
   },
   "outputs": [],
   "source": [
    "X_train['NewPr']=X_test['NewPr'] = 1"
   ]
  },
  {
   "cell_type": "markdown",
   "metadata": {},
   "source": [
    "**20.** Реализуйте функции, которые вычисляют:\n",
    " * прогнозы линейной модели;\n",
    " * функционал $MSPE$ и его градиент;\n",
    " * регуляризованный $MSPE$ и его градиент."
   ]
  },
  {
   "cell_type": "code",
   "execution_count": null,
   "metadata": {},
   "outputs": [],
   "source": [
    "y=vect\n",
    "X=rf"
   ]
  },
  {
   "cell_type": "code",
   "execution_count": null,
   "metadata": {
    "collapsed": true
   },
   "outputs": [],
   "source": [
    "# возвращает вектор прогнозов линейной модели с вектором весов w для выборки X\n",
    "def make_pred(X, w):\n",
    "    y_pred = np.dot(X, w)\n",
    "    return y_pred"
   ]
  },
  {
   "cell_type": "code",
   "execution_count": null,
   "metadata": {
    "collapsed": true
   },
   "outputs": [],
   "source": [
    "# возвращает значение функционала MSPE для выборки (X, y) и вектора весов w\n",
    "def get_func(w, X, y):\n",
    "    MSPE= np.mean(((y-make_pred(X, w))/y)**2)\n",
    "    return MSPE"
   ]
  },
  {
   "cell_type": "code",
   "execution_count": null,
   "metadata": {
    "collapsed": true
   },
   "outputs": [],
   "source": [
    "# возвращает градиент функционала MSPE для выборки (X, y) и вектора весов w\n",
    "def get_grad(w, X, y):\n",
    "    d = (y-make_pred(X, w))/y\n",
    "    wd = np.dot(X.T, d/y)\n",
    "    #print(np.gradient(get_func(w, X, y)))\n",
    "    return -2*wd/y.shape[0]"
   ]
  },
  {
   "cell_type": "code",
   "execution_count": null,
   "metadata": {
    "collapsed": true
   },
   "outputs": [],
   "source": [
    "# возвращает значение регуляризованного функционала MSPE для выборки (X, y) и вектора весов w\n",
    "def get_reg_func(w, X, y):\n",
    "    MSPE_L = np.mean(((y-make_pred(X, w))/y)**2)+ (np.dot(w.T, w))\n",
    "    return MSPE_L\n"
   ]
  },
  {
   "cell_type": "code",
   "execution_count": null,
   "metadata": {
    "collapsed": true
   },
   "outputs": [],
   "source": [
    "# возвращает градиент регуляризованного функционала MSPE для выборки (X, y) и вектора весов w\n",
    "def get_reg_grad(w, X, y):\n",
    "    d = (y - make_pred(X, w))/y\n",
    "    wd = np.dot(X.T, d/y)\n",
    "    return -2 * wd/y.shape[0] + 2*w"
   ]
  },
  {
   "cell_type": "markdown",
   "metadata": {},
   "source": [
    "**21.** Реализуйте метод градиентного спуска для описанных функционалов ($MSPE$ и его регуляризованный вариант). Функция должна принимать следующие параметры:\n",
    " - X — матрица \"объект-признак\";\n",
    " - y — вектор целевой переменной;\n",
    " - w0 — начальное значение вектора весов;\n",
    " - step_size — значение темпа обучения;\n",
    " - max_iter — максимальное число итераций;\n",
    " - eps — значение, используемое в критерии останова;\n",
    " - is_reg — бинарный параметр, принимает значение True в случае наличия регуляризации функционала, False — в противном случае.\n",
    " \n",
    "Процесс должен быть остановлен, если выполнено хотя бы одно из следующих условий:\n",
    " - было выполнено заданное количество итераций max_iter;\n",
    " - евклидова норма разности векторов $w$ на соседних итерациях стала меньше, чем eps.\n",
    "\n",
    "Функция должна возвращать полученный в результате оптимизации вектор $w$ и список значений функционала на каждой итерации."
   ]
  },
  {
   "cell_type": "code",
   "execution_count": null,
   "metadata": {
    "collapsed": true
   },
   "outputs": [],
   "source": [
    "def grad_descent(X, y, w0, step_size, max_iter, eps, is_reg):\n",
    "    wpr = w0\n",
    "    wtek = wpr\n",
    "    List = [get_reg_func(wpr, X, y)] if is_reg else [get_func(wpr, X, y)]\n",
    "    \n",
    "    for i in range(max_iter):\n",
    "        if is_reg == True:\n",
    "            mspe_L = get_reg_func(wpr, X, y)\n",
    "            List.append(mspe_L)\n",
    "            grad = get_reg_grad(wpr, X, y)\n",
    "        else:\n",
    "            mspe = get_func(wpr, X, y)\n",
    "            List.append(mspe)\n",
    "            grad = get_grad(wpr, X, y)\n",
    "        wtek = wpr - (step_size * grad)\n",
    "        if np.linalg.norm(wtek - wpr) < eps:\n",
    "            break\n",
    "        wpr = wtek\n",
    "    return wtek, List"
   ]
  },
  {
   "cell_type": "markdown",
   "metadata": {},
   "source": [
    "Обучите линейную регрессию с функционалом $MSPE$ на обучающей выборке при помощи метода градиентного спуска и изобразите кривые зависимости значения функционала от номера итерации для различных:\n",
    " * значений размера шага из набора [0.001, 1, 10];\n",
    " * способов начальной инициализации вектора весов (нули, случайные веса).\n",
    "\n",
    "Проанализируйте полученные результаты — влияют ли данные параметры на скорость сходимости и итоговое качество? Если да, то как?"
   ]
  },
  {
   "cell_type": "code",
   "execution_count": null,
   "metadata": {
    "collapsed": true
   },
   "outputs": [],
   "source": [
    "import matplotlib\n",
    "import matplotlib.pyplot as plt\n",
    "import seaborn as sns\n",
    "sns.set_style('whitegrid')"
   ]
  },
  {
   "cell_type": "code",
   "execution_count": null,
   "metadata": {},
   "outputs": [],
   "source": [
    "fig = plt.figure(figsize=(20, 10))\n",
    "\n",
    "#Нулевые значения весов:\n",
    "for i,a in enumerate([0.001, 1, 10]):\n",
    "    wz1, mspe1 = grad_descent(X=X_train[:1000], y=y_train[:1000], w0=np.zeros((X_train.shape[1])), step_size=a, max_iter=1000, eps=0.0001, is_reg=False)\n",
    "    plt.subplot(2, 3, i+1)\n",
    "    plt.title('Alpha: '+ str(a))\n",
    "    plt.plot(mspe1)\n",
    "    \n",
    "#Случайные веса:\n",
    "for i,a in enumerate([0.001, 1, 10]):\n",
    "    wr1, msper1 = grad_descent(X=X_train[:1000], y=y_train[:1000], w0=np.random.rand(X_train.shape[1]), step_size=a, max_iter=1000, eps=0.0001, is_reg=False)   \n",
    "    plt.subplot(2, 3, i+4)\n",
    "    plt.title('Alpha: '+ str(a))\n",
    "    plt.plot(msper1)"
   ]
  },
  {
   "cell_type": "markdown",
   "metadata": {},
   "source": [
    "**22.** Обучите линейную регрессию с функционалом MSPE и его регуляризованным вариантом на обучающей выборке при помощи метода градиентного спуска и изобразите кривые зависимости значения функционала от номера итерации. Исследуйте зависимость скорости сходимости от наличия регуляризации. Обоснуйте, почему так происходит."
   ]
  },
  {
   "cell_type": "code",
   "execution_count": null,
   "metadata": {
    "collapsed": true
   },
   "outputs": [],
   "source": [
    "fig = plt.figure(figsize=(20, 10))\n",
    "\n",
    "#Нулевые значения весов:\n",
    "for i,a in enumerate([0.001, 1, 10]):\n",
    "    wz2, mspez2 = grad_descent(X=X_train[:1000], y=y_train[:1000], w0=np.zeros((X_train.shape[1])), step_size=a, max_iter=1000, eps=0.0001, is_reg=True)\n",
    "    plt.subplot(2, 3, i+1)\n",
    "    plt.title('Alpha: '+ str(a))\n",
    "    plt.plot(mspez2)\n",
    "    \n",
    "#Случайные веса:\n",
    "for i,a in enumerate([0.001, 1, 10]):\n",
    "    wr2, msper2 = grad_descent(X=X_train[:1000], y=y_train[:1000], w0=np.random.rand(X_train.shape[1]), step_size=a, max_iter=1000, eps=0.0001, is_reg=True)\n",
    "    plt.subplot(2, 3, i+4)\n",
    "    plt.title('Alpha: '+ str(a))\n",
    "    plt.plot(msper2)"
   ]
  },
  {
   "cell_type": "markdown",
   "metadata": {},
   "source": [
    "Метод градиентного спуска может быть весьма трудозатратен в случае большого размера обучающей выборки. Поэтому часто используют метод стохастического градиентного спуска, где на каждой итерации выбирается случайный объект из обучающей выборки и обновление весов происходит только по этому объекту. \n",
    "\n",
    "**23.**  Реализуйте метод стохастического градиентного спуска (SGD) для описанных функционалов ($MSPE$ и его регуляризованный вариант). Функция должна иметь параметры и возвращаемое значение, аналогичные оным функции grad\\_descent из п.21. Кроме того, должен использоваться аналогичный критерий останова."
   ]
  },
  {
   "cell_type": "code",
   "execution_count": null,
   "metadata": {
    "collapsed": true
   },
   "outputs": [],
   "source": [
    "def SGD(X, y, w0, step_size, max_iter, eps, is_reg):\n",
    "    wpr = w0\n",
    "    wtek = wpr\n",
    "    X0 = X.iloc[0].values.reshape(1, -1)\n",
    "    y0 = np.asarray(y.iloc[0]).reshape(1, -1)[0,:] \n",
    "    List = [get_reg_func(wpr, X0, y0)] if is_reg else [get_func(wpr, X0, y0)]\n",
    "    \n",
    "    for i in range(max_iter):\n",
    "        ind = np.random.randint(0, high=X.shape[0], size=1)[0]\n",
    "        X1 = X.iloc[ind].values.reshape(1, -1)\n",
    "        y1 = np.asarray(y.iloc[ind]).reshape(1, -1)[0,:] \n",
    "        if is_reg == True:\n",
    "            mspe_L = get_reg_func(wpr, X1, y1)\n",
    "            List.append(mspe_L)\n",
    "            grad = get_reg_grad(wpr, X1, y1)\n",
    "        else:\n",
    "            mspe = get_func(wpr, X1, y1)\n",
    "            List.append(mspe)\n",
    "            grad = get_grad(wpr, X1, y1)\n",
    "        wtek = wpr - (step_size * grad)\n",
    "        if np.linalg.norm(wtek - wpr) < eps:\n",
    "            break\n",
    "        wpr = wtek\n",
    "    return wtek, List"
   ]
  },
  {
   "cell_type": "markdown",
   "metadata": {},
   "source": [
    "Обучите линейную регрессию с функционалом $MSPE$ и его регуляризованным вариантом на обучающей выборке при помощи метода стохастического градиентного спуска, подобрав при этом размер шага, при котором метод будет сходиться. Нарисуйте график сходимости. Выведите значения $MSPE, MSE, R^2$ на контрольной выборке."
   ]
  },
  {
   "cell_type": "code",
   "execution_count": null,
   "metadata": {
    "collapsed": true
   },
   "outputs": [],
   "source": [
    "fig = plt.figure(figsize=(20, 10))\n",
    "\n",
    "#Без регуляризации\n",
    "\n",
    "#Нулевые значения весов:\n",
    "wz3, mspe3 = SGD(X_train, y_train, w0=np.zeros((X_train.shape[1])), step_size=0.009, max_iter=1000, eps=0.0001, is_reg=False)\n",
    "plt.subplot(2, 2, 1)\n",
    "plt.title('Alpha: 0.009')\n",
    "plt.plot(mspe3)\n",
    "\n",
    "#Случайные веса:\n",
    "wr3, msper3 = SGD(X_train, y_train, w0=np.random.rand(X_train.shape[1]), step_size=0.009, max_iter=1000, eps=0.0001, is_reg=False)   \n",
    "plt.subplot(2, 2, 2)\n",
    "plt.title('Alpha: 0.009')\n",
    "plt.plot(msper3)"
   ]
  },
  {
   "cell_type": "code",
   "execution_count": null,
   "metadata": {},
   "outputs": [],
   "source": [
    "fig = plt.figure(figsize=(20, 10))\n",
    "\n",
    "#С регуляризацией\n",
    "\n",
    "#Нулевые значения весов:\n",
    "wz4, mspe4 = SGD(X_train, y_train, w0=np.zeros((X_train.shape[1])), step_size=0.0025, max_iter=1000, eps=0.0001, is_reg=True)\n",
    "plt.subplot(2, 2, 1)\n",
    "plt.title('Alpha: 0.0025')\n",
    "plt.plot(mspe4)\n",
    "\n",
    "#Случайные веса:\n",
    "wr4, msper4 = SGD(X_train, y_train, w0=np.random.rand(X_train.shape[1]), step_size=0.0025, max_iter=1000, eps=0.0001, is_reg=True)   \n",
    "plt.subplot(2, 2, 2)\n",
    "plt.title('Alpha: 0.0025')\n",
    "plt.plot(msper4)"
   ]
  },
  {
   "cell_type": "code",
   "execution_count": null,
   "metadata": {},
   "outputs": [],
   "source": [
    "SGD1_noReg = make_pred(X_test, wz3)\n",
    "print('No Reg','\\n','MSPE: ', get_func(wz3, X_test, y_test),'\\n','MSE: ', mean_squared_error(y_test, SGD1_noReg),'\\n','𝑅2: ', r2_score(y_test, SGD1_noReg),'\\n')\n",
    "SGD2_noReg = make_pred(X_test, wr3)\n",
    "print('No Reg','\\n','MSPE: ', get_func(wr3, X_test, y_test),'\\n','MSE: ', mean_squared_error(y_test, SGD2_noReg),'\\n','𝑅2: ', r2_score(y_test, SGD2_noReg),'\\n')\n",
    "SGD3_Reg = make_pred(X_test, wz4)\n",
    "print('Reg','\\n','MSPE: ', get_func(wz4, X_test, y_test),'\\n','MSE: ', mean_squared_error(y_test, SGD4_Reg),'\\n','𝑅2: ',  r2_score(y_test, SGD3_Reg),'\\n')\n",
    "SGD4_Reg = make_pred(X_test, wr4)\n",
    "print('Reg','\\n','MSPE: ', get_func(wr4, X_test, y_test),'\\n','MSE: ', mean_squared_error(y_test, SGD4_Reg),'\\n','𝑅2: ',  r2_score(y_test, SGD4_Reg),'\\n')"
   ]
  },
  {
   "cell_type": "markdown",
   "metadata": {},
   "source": [
    "**24.** Аналогично п.22 исследуйте зависимость скорости сходимости метода SGD от наличия регуляризации. Обоснуйте, почему так происходит."
   ]
  },
  {
   "cell_type": "code",
   "execution_count": null,
   "metadata": {
    "collapsed": true
   },
   "outputs": [],
   "source": [
    "fig = plt.figure(figsize=(20, 10))\n",
    " #Нулевые значения весов без регуляризации:\n",
    "for i, a in enumerate([0.0002, 0.0025, 0.1]):\n",
    "    wz6, mspez6 = SGD(X=X_train, y=y_train, w0=np.zeros((X_train.shape[1])), step_size=a, max_iter=1000, eps=0.0001, is_reg=False)\n",
    "    plt.subplot(2, 3, i+1)\n",
    "    plt.title('NoReg, Alpha: ' + str(a))\n",
    "    plt.plot(mspez6)\n",
    "    \n",
    "#Нулевые значения весов c регуляризацией:\n",
    "for i, a in enumerate([0.0002, 0.0025, 0.1]):\n",
    "    wz5, mspez5 = SGD(X=X_train, y=y_train, w0=np.zeros((X_train.shape[1])), step_size=a, max_iter=1000, eps=0.0001, is_reg=True)\n",
    "    plt.subplot(2, 3, i+4)\n",
    "    plt.title('NoReg, Alpha: ' + str(a))\n",
    "    plt.plot(mspez5)"
   ]
  },
  {
   "cell_type": "code",
   "execution_count": null,
   "metadata": {},
   "outputs": [],
   "source": [
    "fig = plt.figure(figsize=(20, 10))\n",
    "#Случайные веса без регуляризации:\n",
    "for i, a in enumerate([0.0002, 0.0025, 0.1]):\n",
    "    wr6, msper6 = SGD(X=X_train, y=y_train, w0=np.random.rand(X_train.shape[1]), step_size=a, max_iter=1000, eps=0.0001, is_reg=False)\n",
    "    plt.subplot(2, 3, i+1)\n",
    "    plt.title('NoReg, Alpha: '+ str(a))\n",
    "    plt.plot(msper6)\n",
    "    \n",
    "#Случайные веса c регуляризацией:\n",
    "for i, a in enumerate([0.0002, 0.0025, 0.1]):    \n",
    "    wr5, msper5 = SGD(X=X_train, y=y_train, w0=np.random.rand(X_train.shape[1]), step_size=a, max_iter=1000, eps=0.0001, is_reg=True)\n",
    "    plt.subplot(2, 3, i+4)\n",
    "    plt.title('NoReg, Alpha: '+ str(a))\n",
    "    plt.plot(msper5)"
   ]
  },
  {
   "cell_type": "markdown",
   "metadata": {},
   "source": [
    "**25.** Обучите стандартную линейную регрессию с функционалом качества MSE на обучающей выборке и выведите значение MSPE полученного решения на контрольной выборке. Как оно соотносится с аналогичным результатом для решения, полученного в п.22? Почему?"
   ]
  },
  {
   "cell_type": "code",
   "execution_count": null,
   "metadata": {
    "collapsed": true
   },
   "outputs": [],
   "source": [
    "lr_st = LinearRegression()\n",
    "lr_st.fit(X_train, y_train)\n",
    "w_lr_st = lr_st.coef_\n",
    "lr_test = lr_st.predict(X_test)\n",
    "print('MSPE: ', get_func(w_lr_st, X_test, y_test),'\\n','MSE: ', mean_squared_error(y_test, lr_test),'\\n','𝑅2: ', r2_score(y_test, lr_test))"
   ]
  },
  {
   "cell_type": "code",
   "execution_count": null,
   "metadata": {},
   "outputs": [],
   "source": [
    "print('No Reg','\\n','MSPE: ', get_func(wz3, X_test, y_test),'\\n','MSE: ', mean_squared_error(y_test, SGD1_noReg),'\\n','𝑅2: ', r2_score(y_test, SGD1_noReg),'\\n')\n",
    "print('No Reg','\\n','MSPE: ', get_func(wr3, X_test, y_test),'\\n','MSE: ', mean_squared_error(y_test, SGD2_noReg),'\\n','𝑅2: ', r2_score(y_test, SGD2_noReg),'\\n')\n",
    "print('Reg','\\n','MSPE: ', get_func(wz4, X_test, y_test),'\\n','MSE: ', mean_squared_error(y_test, SGD4_Reg),'\\n','𝑅2: ',  r2_score(y_test, SGD3_Reg),'\\n')\n",
    "print('Reg','\\n','MSPE: ', get_func(wr4, X_test, y_test),'\\n','MSE: ', mean_squared_error(y_test, SGD4_Reg),'\\n','𝑅2: ',  r2_score(y_test, SGD4_Reg),'\\n'"
   ]
  }
 ],
 "metadata": {
  "kernelspec": {
   "display_name": "Python 3",
   "language": "python",
   "name": "python3"
  },
  "language_info": {
   "codemirror_mode": {
    "name": "ipython",
    "version": 3
   },
   "file_extension": ".py",
   "mimetype": "text/x-python",
   "name": "python",
   "nbconvert_exporter": "python",
   "pygments_lexer": "ipython3",
   "version": "3.8.5"
  }
 },
 "nbformat": 4,
 "nbformat_minor": 1
}
